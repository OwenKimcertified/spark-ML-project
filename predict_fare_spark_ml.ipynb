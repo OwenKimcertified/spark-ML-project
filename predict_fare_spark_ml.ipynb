{
 "cells": [
  {
   "cell_type": "markdown",
   "metadata": {},
   "source": [
    "# CHECK DATA FROM HDFS"
   ]
  },
  {
   "cell_type": "code",
   "execution_count": 1,
   "metadata": {},
   "outputs": [],
   "source": [
    "from hdfs import InsecureClient\n",
    "\n",
    "hdfs_client = InsecureClient('http://127.0.0.1:9870', user = 'owen')\n",
    "\n",
    "hdfs_directory = '/partition_csv'\n",
    "\n",
    "\n",
    "file_list = hdfs_client.list(hdfs_directory)"
   ]
  },
  {
   "cell_type": "code",
   "execution_count": 2,
   "metadata": {},
   "outputs": [
    {
     "name": "stdout",
     "output_type": "stream",
     "text": [
      "['part0.csv', 'part1.csv', 'part2.csv']\n"
     ]
    }
   ],
   "source": [
    "print(file_list)"
   ]
  },
  {
   "cell_type": "markdown",
   "metadata": {},
   "source": [
    "# SPARK - ML"
   ]
  },
  {
   "cell_type": "code",
   "execution_count": 3,
   "metadata": {},
   "outputs": [],
   "source": [
    "# setting for ssh \n",
    "\n",
    "import os\n",
    "local_ip = '127.0.0.1'\n",
    "os.environ['SPARK_LOCAL_IP'] = local_ip\n",
    "\n",
    "# setting for out of memory\n",
    "\n",
    "MAX_MEMORY = '2g' "
   ]
  },
  {
   "cell_type": "code",
   "execution_count": 4,
   "metadata": {},
   "outputs": [
    {
     "name": "stderr",
     "output_type": "stream",
     "text": [
      "Setting default log level to \"WARN\".\n",
      "To adjust logging level use sc.setLogLevel(newLevel). For SparkR, use setLogLevel(newLevel).\n"
     ]
    },
    {
     "name": "stdout",
     "output_type": "stream",
     "text": [
      "23/08/27 06:29:20 WARN NativeCodeLoader: Unable to load native-hadoop library for your platform... using builtin-java classes where applicable\n"
     ]
    }
   ],
   "source": [
    "from pyspark.sql import SparkSession\n",
    "\n",
    "ss = SparkSession.builder.appName('spark-ml')\\\n",
    "                          .config('spark.executer.memory', MAX_MEMORY)\\\n",
    "                          .config('spark.driver.memory', MAX_MEMORY)\\\n",
    "                          .getOrCreate()"
   ]
  },
  {
   "cell_type": "code",
   "execution_count": 5,
   "metadata": {},
   "outputs": [
    {
     "name": "stderr",
     "output_type": "stream",
     "text": [
      "                                                                                \r"
     ]
    },
    {
     "name": "stdout",
     "output_type": "stream",
     "text": [
      "+---------+-------------------+-------------------+--------------------+-------------------+-------------------+--------------------+-------------+-----------+---------------+------------+------------+------------+------------+\n",
      "|vendor_id|        pickup_date|        pickup_time|         pickup_zone|       dropoff_date|       dropoff_time|        dropoff_zone|trip_distance|fare_amount|passenger_count|driving_time|tolls_amount|total_amount|payment_type|\n",
      "+---------+-------------------+-------------------+--------------------+-------------------+-------------------+--------------------+-------------+-----------+---------------+------------+------------+------------+------------+\n",
      "|        1|2021-06-01 00:00:00|2023-08-27 09:13:26|Penn Station/Madi...|2021-06-01 00:00:00|2023-08-27 09:17:14|        Clinton West|          0.9|        5.0|            1.0|      0:3:48|         0.0|        11.0|           1|\n",
      "|        1|2021-06-01 00:00:00|2023-08-27 09:32:23|         JFK Airport|2021-06-01 00:00:00|2023-08-27 10:07:04|        Bedford Park|         23.0|       61.5|            1.0|     0:34:41|        6.55|        70.6|           2|\n",
      "|        1|2021-06-01 00:00:00|2023-08-27 09:12:15|   LaGuardia Airport|2021-06-01 00:00:00|2023-08-27 09:15:28|       East Elmhurst|          0.9|        5.0|            0.0|      0:3:13|         0.0|        7.55|           2|\n",
      "|        1|2021-06-01 00:00:00|2023-08-27 09:35:00|   LaGuardia Airport|2021-06-01 00:00:00|2023-08-27 09:53:17|    Prospect Heights|         11.2|       31.5|            0.0|     0:18:17|         0.0|       42.55|           1|\n",
      "|        2|2021-06-01 00:00:00|2023-08-27 09:31:01|   LaGuardia Airport|2021-06-01 00:00:00|2023-08-27 09:52:27| Lincoln Square East|         9.49|       28.5|            1.0|     0:21:26|        6.55|       47.87|           1|\n",
      "|        1|2021-06-01 00:00:00|2023-08-27 09:20:05|   LaGuardia Airport|2021-06-01 00:00:00|2023-08-27 09:39:02|            Kips Bay|          9.3|       27.5|            1.0|     0:18:57|        6.55|        46.9|           1|\n",
      "|        2|2021-06-02 00:00:00|2023-08-27 03:08:35|   LaGuardia Airport|2021-06-02 00:00:00|2023-08-27 03:36:38|Sutton Place/Turt...|         6.72|       25.0|            1.0|      0:28:3|         0.0|       36.06|           1|\n",
      "|        2|2021-06-01 00:00:00|2023-08-27 09:29:34|Flushing Meadows-...|2021-06-01 00:00:00|2023-08-27 09:42:50|Springfield Garde...|         9.48|       26.0|            4.0|     0:13:16|         0.0|        30.3|           1|\n",
      "|        2|2021-06-01 00:00:00|2023-08-27 09:00:14|Upper West Side S...|2021-06-01 00:00:00|2023-08-27 09:19:47|       Alphabet City|         5.25|       18.5|            1.0|     0:19:33|         0.0|       26.76|           1|\n",
      "|        2|2021-06-01 00:00:00|2023-08-27 09:28:48|            Kips Bay|2021-06-01 00:00:00|2023-08-27 09:36:06|        East Village|         1.74|        8.0|            1.0|      0:7:18|         0.0|        11.8|           2|\n",
      "|        1|2021-06-01 00:00:00|2023-08-27 09:12:30|         JFK Airport|2021-06-01 00:00:00|2023-08-27 09:45:02|              Inwood|         21.6|       52.0|            2.0|     0:32:32|        6.55|        65.6|           1|\n",
      "|        1|2021-06-01 00:00:00|2023-08-27 09:23:35|        Clinton West|2021-06-01 00:00:00|2023-08-27 09:36:03|      Manhattanville|          4.3|       14.0|            3.0|     0:12:28|         0.0|       21.35|           1|\n",
      "|        2|2021-06-01 00:00:00|2023-08-27 09:02:51|         JFK Airport|2021-06-01 00:00:00|2023-08-27 09:46:39|Flatbush/Ditmas Park|        13.16|       43.0|            2.0|     0:43:48|         0.0|       54.66|           1|\n",
      "|        2|2021-06-01 00:00:00|2023-08-27 09:56:04|Prospect-Lefferts...|2021-06-01 00:00:00|2023-08-27 10:00:07|             Erasmus|         1.17|        5.5|            2.0|       0:4:3|         0.0|         6.8|           2|\n",
      "|        1|2021-06-01 00:00:00|2023-08-27 09:49:23|         JFK Airport|2021-06-01 00:00:00|2023-08-27 10:16:27|    Brooklyn Heights|         19.8|       53.5|            1.0|      0:27:4|         0.0|       67.25|           1|\n",
      "|        1|2021-06-01 00:00:00|2023-08-27 09:01:08|    Hamilton Heights|2021-06-01 00:00:00|2023-08-27 09:04:28| Morningside Heights|          0.9|        5.0|            1.0|      0:3:20|         0.0|         8.8|           2|\n",
      "|        1|2021-06-01 00:00:00|2023-08-27 09:31:25|Upper East Side N...|2021-06-01 00:00:00|2023-08-27 09:44:44|        West Village|          4.4|       14.5|            1.0|     0:13:19|         0.0|       21.95|           1|\n",
      "|        2|2021-06-01 00:00:00|2023-08-27 09:22:15|        Clinton East|2021-06-01 00:00:00|2023-08-27 09:39:56|       Alphabet City|         4.51|       16.5|            1.0|     0:17:41|         0.0|        22.3|           1|\n",
      "|        2|2021-06-01 00:00:00|2023-08-27 09:50:10|            Kips Bay|2021-06-01 00:00:00|2023-08-27 10:11:38|           Ridgewood|         7.79|       24.5|            1.0|     0:21:28|         0.0|        28.3|           2|\n",
      "|        2|2021-06-01 00:00:00|2023-08-27 09:39:05|         JFK Airport|2021-06-01 00:00:00|2023-08-27 10:01:04|                  NA|          7.8|       32.5|            2.0|     0:21:59|         0.0|        33.8|           2|\n",
      "+---------+-------------------+-------------------+--------------------+-------------------+-------------------+--------------------+-------------+-----------+---------------+------------+------------+------------+------------+\n",
      "only showing top 20 rows\n",
      "\n"
     ]
    }
   ],
   "source": [
    "ADDR = 'hdfs://127.0.0.1:9000/partition_csv/*'\n",
    "\n",
    "df = ss.read.csv(ADDR, header = True, inferSchema = True)\n",
    "\n",
    "df.show()"
   ]
  },
  {
   "cell_type": "code",
   "execution_count": 6,
   "metadata": {},
   "outputs": [
    {
     "name": "stdout",
     "output_type": "stream",
     "text": [
      "root\n",
      " |-- vendor_id: integer (nullable = true)\n",
      " |-- pickup_date: timestamp (nullable = true)\n",
      " |-- pickup_time: timestamp (nullable = true)\n",
      " |-- pickup_zone: string (nullable = true)\n",
      " |-- dropoff_date: timestamp (nullable = true)\n",
      " |-- dropoff_time: timestamp (nullable = true)\n",
      " |-- dropoff_zone: string (nullable = true)\n",
      " |-- trip_distance: double (nullable = true)\n",
      " |-- fare_amount: double (nullable = true)\n",
      " |-- passenger_count: double (nullable = true)\n",
      " |-- driving_time: string (nullable = true)\n",
      " |-- tolls_amount: double (nullable = true)\n",
      " |-- total_amount: double (nullable = true)\n",
      " |-- payment_type: integer (nullable = true)\n",
      "\n"
     ]
    }
   ],
   "source": [
    "df.printSchema()"
   ]
  },
  {
   "cell_type": "code",
   "execution_count": 7,
   "metadata": {},
   "outputs": [
    {
     "name": "stderr",
     "output_type": "stream",
     "text": [
      "[Stage 3:>                                                          (0 + 1) / 1]\r"
     ]
    },
    {
     "name": "stdout",
     "output_type": "stream",
     "text": [
      "+---------+-------------------+-------------------+--------------------+-------------------+-------------------+--------------------+-------------+-----------+---------------+------------+------------+------------+------------+--------------------+\n",
      "|vendor_id|        pickup_date|        pickup_time|         pickup_zone|       dropoff_date|       dropoff_time|        dropoff_zone|trip_distance|fare_amount|passenger_count|driving_time|tolls_amount|total_amount|payment_type|driving_time_seconds|\n",
      "+---------+-------------------+-------------------+--------------------+-------------------+-------------------+--------------------+-------------+-----------+---------------+------------+------------+------------+------------+--------------------+\n",
      "|        1|2021-06-01 00:00:00|2023-08-27 09:13:26|Penn Station/Madi...|2021-06-01 00:00:00|2023-08-27 09:17:14|        Clinton West|          0.9|        5.0|            1.0|      0:3:48|         0.0|        11.0|           1|                 228|\n",
      "|        1|2021-06-01 00:00:00|2023-08-27 09:32:23|         JFK Airport|2021-06-01 00:00:00|2023-08-27 10:07:04|        Bedford Park|         23.0|       61.5|            1.0|     0:34:41|        6.55|        70.6|           2|                2081|\n",
      "|        1|2021-06-01 00:00:00|2023-08-27 09:12:15|   LaGuardia Airport|2021-06-01 00:00:00|2023-08-27 09:15:28|       East Elmhurst|          0.9|        5.0|            0.0|      0:3:13|         0.0|        7.55|           2|                 193|\n",
      "|        1|2021-06-01 00:00:00|2023-08-27 09:35:00|   LaGuardia Airport|2021-06-01 00:00:00|2023-08-27 09:53:17|    Prospect Heights|         11.2|       31.5|            0.0|     0:18:17|         0.0|       42.55|           1|                1097|\n",
      "|        2|2021-06-01 00:00:00|2023-08-27 09:31:01|   LaGuardia Airport|2021-06-01 00:00:00|2023-08-27 09:52:27| Lincoln Square East|         9.49|       28.5|            1.0|     0:21:26|        6.55|       47.87|           1|                1286|\n",
      "|        1|2021-06-01 00:00:00|2023-08-27 09:20:05|   LaGuardia Airport|2021-06-01 00:00:00|2023-08-27 09:39:02|            Kips Bay|          9.3|       27.5|            1.0|     0:18:57|        6.55|        46.9|           1|                1137|\n",
      "|        2|2021-06-02 00:00:00|2023-08-27 03:08:35|   LaGuardia Airport|2021-06-02 00:00:00|2023-08-27 03:36:38|Sutton Place/Turt...|         6.72|       25.0|            1.0|      0:28:3|         0.0|       36.06|           1|                1683|\n",
      "|        2|2021-06-01 00:00:00|2023-08-27 09:29:34|Flushing Meadows-...|2021-06-01 00:00:00|2023-08-27 09:42:50|Springfield Garde...|         9.48|       26.0|            4.0|     0:13:16|         0.0|        30.3|           1|                 796|\n",
      "|        2|2021-06-01 00:00:00|2023-08-27 09:00:14|Upper West Side S...|2021-06-01 00:00:00|2023-08-27 09:19:47|       Alphabet City|         5.25|       18.5|            1.0|     0:19:33|         0.0|       26.76|           1|                1173|\n",
      "|        2|2021-06-01 00:00:00|2023-08-27 09:28:48|            Kips Bay|2021-06-01 00:00:00|2023-08-27 09:36:06|        East Village|         1.74|        8.0|            1.0|      0:7:18|         0.0|        11.8|           2|                 438|\n",
      "|        1|2021-06-01 00:00:00|2023-08-27 09:12:30|         JFK Airport|2021-06-01 00:00:00|2023-08-27 09:45:02|              Inwood|         21.6|       52.0|            2.0|     0:32:32|        6.55|        65.6|           1|                1952|\n",
      "|        1|2021-06-01 00:00:00|2023-08-27 09:23:35|        Clinton West|2021-06-01 00:00:00|2023-08-27 09:36:03|      Manhattanville|          4.3|       14.0|            3.0|     0:12:28|         0.0|       21.35|           1|                 748|\n",
      "|        2|2021-06-01 00:00:00|2023-08-27 09:02:51|         JFK Airport|2021-06-01 00:00:00|2023-08-27 09:46:39|Flatbush/Ditmas Park|        13.16|       43.0|            2.0|     0:43:48|         0.0|       54.66|           1|                2628|\n",
      "|        2|2021-06-01 00:00:00|2023-08-27 09:56:04|Prospect-Lefferts...|2021-06-01 00:00:00|2023-08-27 10:00:07|             Erasmus|         1.17|        5.5|            2.0|       0:4:3|         0.0|         6.8|           2|                 243|\n",
      "|        1|2021-06-01 00:00:00|2023-08-27 09:49:23|         JFK Airport|2021-06-01 00:00:00|2023-08-27 10:16:27|    Brooklyn Heights|         19.8|       53.5|            1.0|      0:27:4|         0.0|       67.25|           1|                1624|\n",
      "|        1|2021-06-01 00:00:00|2023-08-27 09:01:08|    Hamilton Heights|2021-06-01 00:00:00|2023-08-27 09:04:28| Morningside Heights|          0.9|        5.0|            1.0|      0:3:20|         0.0|         8.8|           2|                 200|\n",
      "|        1|2021-06-01 00:00:00|2023-08-27 09:31:25|Upper East Side N...|2021-06-01 00:00:00|2023-08-27 09:44:44|        West Village|          4.4|       14.5|            1.0|     0:13:19|         0.0|       21.95|           1|                 799|\n",
      "|        2|2021-06-01 00:00:00|2023-08-27 09:22:15|        Clinton East|2021-06-01 00:00:00|2023-08-27 09:39:56|       Alphabet City|         4.51|       16.5|            1.0|     0:17:41|         0.0|        22.3|           1|                1061|\n",
      "|        2|2021-06-01 00:00:00|2023-08-27 09:50:10|            Kips Bay|2021-06-01 00:00:00|2023-08-27 10:11:38|           Ridgewood|         7.79|       24.5|            1.0|     0:21:28|         0.0|        28.3|           2|                1288|\n",
      "|        2|2021-06-01 00:00:00|2023-08-27 09:39:05|         JFK Airport|2021-06-01 00:00:00|2023-08-27 10:01:04|                  NA|          7.8|       32.5|            2.0|     0:21:59|         0.0|        33.8|           2|                1319|\n",
      "+---------+-------------------+-------------------+--------------------+-------------------+-------------------+--------------------+-------------+-----------+---------------+------------+------------+------------+------------+--------------------+\n",
      "only showing top 20 rows\n",
      "\n"
     ]
    },
    {
     "name": "stderr",
     "output_type": "stream",
     "text": [
      "                                                                                \r"
     ]
    }
   ],
   "source": [
    "# change driving_time column type (string -> int)\n",
    "from pyspark.sql.functions import col, udf\n",
    "from pyspark.sql.types import IntegerType\n",
    "\n",
    "def convert_to_seconds(time_str):\n",
    "    parts = time_str.split(\":\")\n",
    "    hours = int(parts[0])\n",
    "    minutes = int(parts[1])\n",
    "    seconds = int(parts[2])\n",
    "    total_seconds = hours * 3600 + minutes * 60 + seconds\n",
    "    return total_seconds\n",
    "\n",
    "# make user defined func\n",
    "convert_to_seconds_udf = udf(convert_to_seconds, IntegerType())\n",
    "\n",
    "df = df.withColumn(\"driving_time_seconds\", convert_to_seconds_udf(col(\"driving_time\")))\n",
    "\n",
    "df.show()"
   ]
  },
  {
   "cell_type": "markdown",
   "metadata": {},
   "source": [
    "### note : if all columns are string, check folder's files"
   ]
  },
  {
   "cell_type": "code",
   "execution_count": 8,
   "metadata": {},
   "outputs": [],
   "source": [
    "# label (target) = total_amount \n",
    "\n",
    "# features = driving_time, trip_distance\n",
    "\n",
    "df.createOrReplaceTempView('df')\n",
    "\n",
    "query =\"\"\"\n",
    "select trip_distance, driving_time_seconds, total_amount\n",
    "from df\n",
    "\"\"\"\n",
    "\n",
    "for_train = ss.sql(query)\n"
   ]
  },
  {
   "cell_type": "code",
   "execution_count": 14,
   "metadata": {},
   "outputs": [
    {
     "data": {
      "text/plain": [
       "234"
      ]
     },
     "execution_count": 14,
     "metadata": {},
     "output_type": "execute_result"
    }
   ],
   "source": [
    "import gc\n",
    "\n",
    "gc.collect()"
   ]
  },
  {
   "cell_type": "markdown",
   "metadata": {},
   "source": [
    "# MODEL TRAIN"
   ]
  },
  {
   "cell_type": "code",
   "execution_count": 10,
   "metadata": {},
   "outputs": [],
   "source": [
    "train_df, test_df = for_train.randomSplit([.7, .3], seed = 42)"
   ]
  },
  {
   "cell_type": "code",
   "execution_count": 13,
   "metadata": {},
   "outputs": [
    {
     "name": "stdout",
     "output_type": "stream",
     "text": [
      "23/08/27 06:30:23 WARN Instrumentation: [dfb789dd] regParam is zero, which might cause numerical instability and overfitting.\n"
     ]
    },
    {
     "name": "stderr",
     "output_type": "stream",
     "text": [
      "[Stage 4:>                                                        (0 + 12) / 12]\r"
     ]
    },
    {
     "name": "stdout",
     "output_type": "stream",
     "text": [
      "23/08/27 06:30:37 WARN InstanceBuilder$NativeBLAS: Failed to load implementation from:dev.ludovic.netlib.blas.JNIBLAS\n",
      "23/08/27 06:30:37 WARN InstanceBuilder$NativeBLAS: Failed to load implementation from:dev.ludovic.netlib.blas.ForeignLinkerBLAS\n"
     ]
    },
    {
     "name": "stderr",
     "output_type": "stream",
     "text": [
      "                                                                                \r"
     ]
    },
    {
     "name": "stdout",
     "output_type": "stream",
     "text": [
      "23/08/27 06:30:41 WARN InstanceBuilder$NativeLAPACK: Failed to load implementation from:dev.ludovic.netlib.lapack.JNILAPACK\n"
     ]
    },
    {
     "name": "stderr",
     "output_type": "stream",
     "text": [
      "                                                                                \r"
     ]
    }
   ],
   "source": [
    "from pyspark.ml.feature import VectorAssembler\n",
    "from pyspark.ml.regression import LinearRegression\n",
    "\n",
    "vecssemble = VectorAssembler(inputCols = ['trip_distance', 'driving_time_seconds'], outputCol = 'vecrized_features')\n",
    "\n",
    "v_train, v_test = vecssemble.transform(train_df), vecssemble.transform(test_df)\n",
    "\n",
    "lr = LinearRegression(maxIter = 10,\n",
    "                      labelCol = 'total_amount',\n",
    "                      featuresCol = 'vecrized_features')\n",
    "\n",
    "model = lr.fit(v_train)"
   ]
  },
  {
   "cell_type": "code",
   "execution_count": 15,
   "metadata": {},
   "outputs": [
    {
     "data": {
      "text/plain": [
       "0.742453786141426"
      ]
     },
     "execution_count": 15,
     "metadata": {},
     "output_type": "execute_result"
    }
   ],
   "source": [
    "# accuracy \n",
    "\n",
    "model.summary.r2"
   ]
  }
 ],
 "metadata": {
  "kernelspec": {
   "display_name": "bigdata",
   "language": "python",
   "name": "python3"
  },
  "language_info": {
   "codemirror_mode": {
    "name": "ipython",
    "version": 3
   },
   "file_extension": ".py",
   "mimetype": "text/x-python",
   "name": "python",
   "nbconvert_exporter": "python",
   "pygments_lexer": "ipython3",
   "version": "3.8.17"
  },
  "orig_nbformat": 4
 },
 "nbformat": 4,
 "nbformat_minor": 2
}
