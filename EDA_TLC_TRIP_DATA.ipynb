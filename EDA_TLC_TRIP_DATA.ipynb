{
 "cells": [
  {
   "cell_type": "markdown",
   "metadata": {},
   "source": [
    "### TLC TRIP DATA \n",
    "\n",
    "### 2021 JEN ~ JUL YELLOW_TAXI_TRIP_RECORDS.PARQUET \n",
    "\n",
    "### TAXI_ZONE_MAPS & LOOKUP TABLES.CSV\n",
    "\n",
    "### 03newdata : for testing"
   ]
  },
  {
   "cell_type": "code",
   "execution_count": 1,
   "metadata": {},
   "outputs": [
    {
     "name": "stderr",
     "output_type": "stream",
     "text": [
      "Setting default log level to \"WARN\".\n",
      "To adjust logging level use sc.setLogLevel(newLevel). For SparkR, use setLogLevel(newLevel).\n"
     ]
    },
    {
     "name": "stdout",
     "output_type": "stream",
     "text": [
      "23/08/25 04:57:35 WARN NativeCodeLoader: Unable to load native-hadoop library for your platform... using builtin-java classes where applicable\n"
     ]
    }
   ],
   "source": [
    "from pyspark.sql import SparkSession\n",
    "\n",
    "# CAUTION if use ssh, have to re-bind ip (recommend) \n",
    "import os\n",
    "\n",
    "local_ip = \"127.0.0.1\"\n",
    "\n",
    "os.environ['SPARK_LOCAL_IP'] = local_ip\n",
    "\n",
    "ss = SparkSession.builder.master('local').appName('test').getOrCreate()"
   ]
  },
  {
   "cell_type": "code",
   "execution_count": 2,
   "metadata": {},
   "outputs": [
    {
     "name": "stderr",
     "output_type": "stream",
     "text": [
      "                                                                                \r"
     ]
    }
   ],
   "source": [
    "dir = '/dir/'\n",
    "file = '03newdata.csv'\n",
    "\n",
    "data = ss.read.csv(f\"file:///{dir}/{file}\", inferSchema = True, header = True)"
   ]
  },
  {
   "cell_type": "code",
   "execution_count": 3,
   "metadata": {},
   "outputs": [
    {
     "name": "stdout",
     "output_type": "stream",
     "text": [
      "+-----------------+--------------------+--------------------+-------------------+-------------------+-------------------+-------------------+------------+------------+----------+---------+-------------------+-----+----+---------+--------------------+-----------+----+----------+-------------------+-----------------+------------------+----------------+--------------+\n",
      "|hvfhs_license_num|dispatching_base_num|originating_base_num|   request_datetime|  on_scene_datetime|    pickup_datetime|   dropoff_datetime|PULocationID|DOLocationID|trip_miles|trip_time|base_passenger_fare|tolls| bcf|sales_tax|congestion_surcharge|airport_fee|tips|driver_pay|shared_request_flag|shared_match_flag|access_a_ride_flag|wav_request_flag|wav_match_flag|\n",
      "+-----------------+--------------------+--------------------+-------------------+-------------------+-------------------+-------------------+------------+------------+----------+---------+-------------------+-----+----+---------+--------------------+-----------+----+----------+-------------------+-----------------+------------------+----------------+--------------+\n",
      "|           HV0005|              B02510|                null|2020-03-01 00:00:12|               null|2020-03-01 00:03:40|2020-03-01 00:23:39|          81|         159|     8.655|     1199|              24.45|  0.0|0.54|      1.9|                 0.0|       null| 0.0|     19.65|                  N|                N|                 N|               N|             N|\n",
      "|           HV0005|              B02510|                null|2020-03-01 00:22:03|               null|2020-03-01 00:28:05|2020-03-01 00:38:57|         168|         119|     3.523|      652|              11.88|  0.0|0.24|     0.85|                 0.0|       null| 0.0|      9.37|                  N|                N|                 N|               N|             N|\n",
      "|           HV0003|              B02764|              B02764|2020-02-29 23:57:45|2020-03-01 00:01:04|2020-03-01 00:03:07|2020-03-01 00:15:04|         137|         209|      4.07|      717|              14.57|  0.0|0.38|     1.38|                2.75|       null| 0.0|     16.24|                  N|                Y|                  |               N|             N|\n",
      "|           HV0003|              B02764|              B02764|2020-03-01 00:04:06|2020-03-01 00:15:48|2020-03-01 00:18:42|2020-03-01 00:38:42|         209|          80|      4.73|     1200|              13.89|  0.0|0.35|     1.23|                0.75|       null| 0.0|     21.76|                  Y|                N|                  |               N|             N|\n",
      "|           HV0003|              B02764|              B02764|2020-03-01 00:42:46|2020-03-01 00:43:18|2020-03-01 00:44:24|2020-03-01 00:58:44|         256|         226|      4.03|      860|               20.2|  0.0|0.51|     1.79|                 0.0|       null| 0.0|     19.64|                  N|                N|                  |               N|             N|\n",
      "+-----------------+--------------------+--------------------+-------------------+-------------------+-------------------+-------------------+------------+------------+----------+---------+-------------------+-----+----+---------+--------------------+-----------+----+----------+-------------------+-----------------+------------------+----------------+--------------+\n",
      "only showing top 5 rows\n",
      "\n"
     ]
    }
   ],
   "source": [
    "df = data.drop('_c0')\n",
    "\n",
    "df.show(5)"
   ]
  },
  {
   "cell_type": "code",
   "execution_count": 4,
   "metadata": {},
   "outputs": [],
   "source": [
    "# CAUTION. PATH MUST ALWAYS BE CREATED DIRECTORY\n",
    "\n",
    "# DISTRIBUTE DF 1 ~ 10\n",
    "\n",
    "# df.coalesce(10).write.csv('/dir/new_folder/') output will saved at new_folder"
   ]
  },
  {
   "cell_type": "code",
   "execution_count": 5,
   "metadata": {},
   "outputs": [],
   "source": [
    "df.createOrReplaceTempView('mobility_dataset')"
   ]
  },
  {
   "cell_type": "code",
   "execution_count": 6,
   "metadata": {},
   "outputs": [
    {
     "name": "stdout",
     "output_type": "stream",
     "text": [
      "+-----------------------------+\n",
      "|split(pickup_datetime,  , -1)|\n",
      "+-----------------------------+\n",
      "|         [2020-03-01, 00:0...|\n",
      "|         [2020-03-01, 00:2...|\n",
      "|         [2020-03-01, 00:0...|\n",
      "|         [2020-03-01, 00:1...|\n",
      "|         [2020-03-01, 00:4...|\n",
      "|         [2020-03-01, 00:1...|\n",
      "|         [2020-03-01, 00:0...|\n",
      "|         [2020-03-01, 00:4...|\n",
      "|         [2020-03-01, 00:5...|\n",
      "|         [2020-03-01, 00:1...|\n",
      "|         [2020-03-01, 00:2...|\n",
      "|         [2020-03-01, 00:4...|\n",
      "|         [2020-03-01, 00:1...|\n",
      "|         [2020-03-01, 00:2...|\n",
      "|         [2020-03-01, 00:4...|\n",
      "|         [2020-03-01, 00:5...|\n",
      "|         [2020-03-01, 00:5...|\n",
      "|         [2020-03-01, 00:1...|\n",
      "|         [2020-03-01, 00:3...|\n",
      "|         [2020-03-01, 00:2...|\n",
      "+-----------------------------+\n",
      "only showing top 20 rows\n",
      "\n"
     ]
    }
   ],
   "source": [
    "ss.sql(\"select split(pickup_datetime, ' ')\\\n",
    "        from mobility_dataset\").show()"
   ]
  },
  {
   "cell_type": "code",
   "execution_count": 7,
   "metadata": {},
   "outputs": [
    {
     "name": "stdout",
     "output_type": "stream",
     "text": [
      "+-------------------+\n",
      "|    pickup_datetime|\n",
      "+-------------------+\n",
      "|2020-03-01 00:03:40|\n",
      "|2020-03-01 00:28:05|\n",
      "|2020-03-01 00:03:07|\n",
      "|2020-03-01 00:18:42|\n",
      "|2020-03-01 00:44:24|\n",
      "|2020-03-01 00:17:23|\n",
      "|2020-03-01 00:01:18|\n",
      "|2020-03-01 00:43:27|\n",
      "|2020-03-01 00:52:23|\n",
      "|2020-03-01 00:19:49|\n",
      "|2020-03-01 00:29:34|\n",
      "|2020-03-01 00:41:44|\n",
      "|2020-03-01 00:11:26|\n",
      "|2020-03-01 00:28:05|\n",
      "|2020-03-01 00:44:28|\n",
      "|2020-03-01 00:56:50|\n",
      "|2020-03-01 00:56:14|\n",
      "|2020-03-01 00:14:15|\n",
      "|2020-03-01 00:31:38|\n",
      "|2020-03-01 00:26:31|\n",
      "+-------------------+\n",
      "only showing top 20 rows\n",
      "\n"
     ]
    }
   ],
   "source": [
    "ss.sql(\"select pickup_datetime\\\n",
    "        from mobility_dataset\").show()"
   ]
  },
  {
   "cell_type": "code",
   "execution_count": 8,
   "metadata": {},
   "outputs": [
    {
     "name": "stdout",
     "output_type": "stream",
     "text": [
      "+------------+\n",
      "|splited_date|\n",
      "+------------+\n",
      "|  2020-03-01|\n",
      "|  2020-03-01|\n",
      "|  2020-03-01|\n",
      "|  2020-03-01|\n",
      "|  2020-03-01|\n",
      "|  2020-03-01|\n",
      "|  2020-03-01|\n",
      "|  2020-03-01|\n",
      "|  2020-03-01|\n",
      "|  2020-03-01|\n",
      "|  2020-03-01|\n",
      "|  2020-03-01|\n",
      "|  2020-03-01|\n",
      "|  2020-03-01|\n",
      "|  2020-03-01|\n",
      "|  2020-03-01|\n",
      "|  2020-03-01|\n",
      "|  2020-03-01|\n",
      "|  2020-03-01|\n",
      "|  2020-03-01|\n",
      "+------------+\n",
      "only showing top 20 rows\n",
      "\n"
     ]
    }
   ],
   "source": [
    "ss.sql(\"select split(pickup_datetime, ' ')[0] as splited_date\\\n",
    "       from mobility_dataset\").show()"
   ]
  },
  {
   "cell_type": "code",
   "execution_count": 9,
   "metadata": {},
   "outputs": [
    {
     "name": "stderr",
     "output_type": "stream",
     "text": [
      "[Stage 6:=====================================================>   (16 + 1) / 17]\r"
     ]
    },
    {
     "name": "stdout",
     "output_type": "stream",
     "text": [
      "+--------+\n",
      "|count(1)|\n",
      "+--------+\n",
      "|  648990|\n",
      "|  784260|\n",
      "|  697880|\n",
      "|  707879|\n",
      "|  731165|\n",
      "|  872012|\n",
      "|  886071|\n",
      "|  731222|\n",
      "|  628940|\n",
      "|  626474|\n",
      "|  628601|\n",
      "|  643257|\n",
      "|  660914|\n",
      "|  569397|\n",
      "|  391518|\n",
      "|  448125|\n",
      "|  252773|\n",
      "|  312298|\n",
      "|  269233|\n",
      "|  261900|\n",
      "+--------+\n",
      "only showing top 20 rows\n",
      "\n"
     ]
    },
    {
     "name": "stderr",
     "output_type": "stream",
     "text": [
      "                                                                                \r"
     ]
    }
   ],
   "source": [
    "ss.sql(\"select count(*)\\\n",
    "       from(select split(pickup_datetime, ' ')[0] as splited_date\\\n",
    "            from mobility_dataset)\\\n",
    "       group by splited_date\").show()"
   ]
  },
  {
   "cell_type": "code",
   "execution_count": 10,
   "metadata": {},
   "outputs": [
    {
     "name": "stderr",
     "output_type": "stream",
     "text": [
      "[Stage 9:=====================================================>   (16 + 1) / 17]\r"
     ]
    },
    {
     "name": "stdout",
     "output_type": "stream",
     "text": [
      "+-----------+----------+\n",
      "|pickup_date|trip_count|\n",
      "+-----------+----------+\n",
      "| 2020-03-01|    784260|\n",
      "| 2020-03-02|    648990|\n",
      "| 2020-03-03|    697880|\n",
      "| 2020-03-04|    707879|\n",
      "| 2020-03-05|    731165|\n",
      "| 2020-03-06|    872012|\n",
      "| 2020-03-07|    886071|\n",
      "| 2020-03-08|    731222|\n",
      "| 2020-03-09|    628940|\n",
      "| 2020-03-10|    626474|\n",
      "| 2020-03-11|    628601|\n",
      "| 2020-03-12|    643257|\n",
      "| 2020-03-13|    660914|\n",
      "| 2020-03-14|    569397|\n",
      "| 2020-03-15|    448125|\n",
      "| 2020-03-16|    391518|\n",
      "| 2020-03-17|    312298|\n",
      "| 2020-03-18|    269233|\n",
      "| 2020-03-19|    252773|\n",
      "| 2020-03-20|    261900|\n",
      "+-----------+----------+\n",
      "only showing top 20 rows\n",
      "\n"
     ]
    },
    {
     "name": "stderr",
     "output_type": "stream",
     "text": [
      "                                                                                \r"
     ]
    }
   ],
   "source": [
    "ss.sql(\"select pickup_datetime as pickup_date, count(*) as trip_count\\\n",
    "       from (select split(pickup_datetime, ' ')[0] as pickup_datetime \\\n",
    "       from mobility_dataset)\\\n",
    "       group by pickup_datetime\\\n",
    "       order by pickup_datetime asc\").show()"
   ]
  },
  {
   "cell_type": "markdown",
   "metadata": {},
   "source": [
    "# df2 : TAXI LOOKUP ZONE DATA (for join)\n",
    "\n",
    "# pz : pickup_zone, dz : dropoff_zone"
   ]
  },
  {
   "cell_type": "code",
   "execution_count": 11,
   "metadata": {},
   "outputs": [],
   "source": [
    "dir = '/dir'\n",
    "file = 'taxi+_zone_lookup.csv'\n",
    "\n",
    "df2 = ss.read.csv(f\"file:///{dir}/{file}\", inferSchema = True, header = True)"
   ]
  },
  {
   "cell_type": "code",
   "execution_count": 12,
   "metadata": {},
   "outputs": [
    {
     "name": "stdout",
     "output_type": "stream",
     "text": [
      "+----------+-------------+--------------------+------------+\n",
      "|LocationID|      Borough|                Zone|service_zone|\n",
      "+----------+-------------+--------------------+------------+\n",
      "|         1|          EWR|      Newark Airport|         EWR|\n",
      "|         2|       Queens|         Jamaica Bay|   Boro Zone|\n",
      "|         3|        Bronx|Allerton/Pelham G...|   Boro Zone|\n",
      "|         4|    Manhattan|       Alphabet City| Yellow Zone|\n",
      "|         5|Staten Island|       Arden Heights|   Boro Zone|\n",
      "|         6|Staten Island|Arrochar/Fort Wad...|   Boro Zone|\n",
      "|         7|       Queens|             Astoria|   Boro Zone|\n",
      "|         8|       Queens|        Astoria Park|   Boro Zone|\n",
      "|         9|       Queens|          Auburndale|   Boro Zone|\n",
      "|        10|       Queens|        Baisley Park|   Boro Zone|\n",
      "|        11|     Brooklyn|          Bath Beach|   Boro Zone|\n",
      "|        12|    Manhattan|        Battery Park| Yellow Zone|\n",
      "|        13|    Manhattan|   Battery Park City| Yellow Zone|\n",
      "|        14|     Brooklyn|           Bay Ridge|   Boro Zone|\n",
      "|        15|       Queens|Bay Terrace/Fort ...|   Boro Zone|\n",
      "|        16|       Queens|             Bayside|   Boro Zone|\n",
      "|        17|     Brooklyn|             Bedford|   Boro Zone|\n",
      "|        18|        Bronx|        Bedford Park|   Boro Zone|\n",
      "|        19|       Queens|           Bellerose|   Boro Zone|\n",
      "|        20|        Bronx|             Belmont|   Boro Zone|\n",
      "+----------+-------------+--------------------+------------+\n",
      "only showing top 20 rows\n",
      "\n"
     ]
    }
   ],
   "source": [
    "df2.show()"
   ]
  },
  {
   "cell_type": "code",
   "execution_count": 13,
   "metadata": {},
   "outputs": [],
   "source": [
    "df2.createOrReplaceTempView('region_dataset')"
   ]
  },
  {
   "cell_type": "code",
   "execution_count": 14,
   "metadata": {},
   "outputs": [
    {
     "name": "stderr",
     "output_type": "stream",
     "text": [
      "[Stage 16:====================================================>   (16 + 1) / 17]\r"
     ]
    },
    {
     "name": "stdout",
     "output_type": "stream",
     "text": [
      "+-------------+----------+\n",
      "|      borough|trip_count|\n",
      "+-------------+----------+\n",
      "|    Manhattan|   4953147|\n",
      "|     Brooklyn|   3735765|\n",
      "|       Queens|   2437394|\n",
      "|        Bronx|   2086597|\n",
      "|Staten Island|    178818|\n",
      "|      Unknown|       845|\n",
      "|          EWR|       362|\n",
      "+-------------+----------+\n",
      "\n"
     ]
    },
    {
     "name": "stderr",
     "output_type": "stream",
     "text": [
      "                                                                                \r"
     ]
    }
   ],
   "source": [
    "# pickup\n",
    "\n",
    "ss.sql('select borough, count(*) as trip_count\\\n",
    "        from (select region_dataset.Borough as borough\\\n",
    "              from mobility_dataset \\\n",
    "              join region_dataset on mobility_dataset.PULocationID = region_dataset.LocationID)\\\n",
    "        group by borough\\\n",
    "        order by trip_count desc').show(10)"
   ]
  },
  {
   "cell_type": "code",
   "execution_count": 15,
   "metadata": {},
   "outputs": [
    {
     "name": "stderr",
     "output_type": "stream",
     "text": [
      "[Stage 20:====================================================>   (16 + 1) / 17]\r"
     ]
    },
    {
     "name": "stdout",
     "output_type": "stream",
     "text": [
      "+-------------+----------+\n",
      "|      borough|trip_count|\n",
      "+-------------+----------+\n",
      "|    Manhattan|   4553783|\n",
      "|     Brooklyn|   3696684|\n",
      "|       Queens|   2468416|\n",
      "|        Bronx|   2043492|\n",
      "|      Unknown|    387760|\n",
      "|Staten Island|    177727|\n",
      "|          EWR|     65066|\n",
      "+-------------+----------+\n",
      "\n"
     ]
    },
    {
     "name": "stderr",
     "output_type": "stream",
     "text": [
      "                                                                                \r"
     ]
    }
   ],
   "source": [
    "# dropoff\n",
    "\n",
    "ss.sql('select borough, count(*) as trip_count\\\n",
    "        from (select region_dataset.Borough as borough\\\n",
    "              from mobility_dataset \\\n",
    "              join region_dataset on mobility_dataset.DOLocationID = region_dataset.LocationID)\\\n",
    "        group by borough\\\n",
    "        order by trip_count desc').show(10)"
   ]
  },
  {
   "cell_type": "markdown",
   "metadata": {},
   "source": [
    "# txdf : TLC TRIP DATA JEN ~ JULY (not test)"
   ]
  },
  {
   "cell_type": "code",
   "execution_count": 16,
   "metadata": {},
   "outputs": [],
   "source": [
    "dir2 = '/dir/taxi_1~7/*'\n",
    "\n",
    "txdf = ss.read.parquet(f\"file:///{dir2}\", inferSchema = True, header = True)"
   ]
  },
  {
   "cell_type": "code",
   "execution_count": 17,
   "metadata": {},
   "outputs": [
    {
     "name": "stdout",
     "output_type": "stream",
     "text": [
      "root\n",
      " |-- VendorID: long (nullable = true)\n",
      " |-- tpep_pickup_datetime: timestamp (nullable = true)\n",
      " |-- tpep_dropoff_datetime: timestamp (nullable = true)\n",
      " |-- passenger_count: double (nullable = true)\n",
      " |-- trip_distance: double (nullable = true)\n",
      " |-- RatecodeID: double (nullable = true)\n",
      " |-- store_and_fwd_flag: string (nullable = true)\n",
      " |-- PULocationID: long (nullable = true)\n",
      " |-- DOLocationID: long (nullable = true)\n",
      " |-- payment_type: long (nullable = true)\n",
      " |-- fare_amount: double (nullable = true)\n",
      " |-- extra: double (nullable = true)\n",
      " |-- mta_tax: double (nullable = true)\n",
      " |-- tip_amount: double (nullable = true)\n",
      " |-- tolls_amount: double (nullable = true)\n",
      " |-- improvement_surcharge: double (nullable = true)\n",
      " |-- total_amount: double (nullable = true)\n",
      " |-- congestion_surcharge: double (nullable = true)\n",
      " |-- airport_fee: double (nullable = true)\n",
      "\n",
      "root\n",
      " |-- LocationID: integer (nullable = true)\n",
      " |-- Borough: string (nullable = true)\n",
      " |-- Zone: string (nullable = true)\n",
      " |-- service_zone: string (nullable = true)\n",
      "\n"
     ]
    }
   ],
   "source": [
    "txdf.printSchema()\n",
    "\n",
    "df2.printSchema()"
   ]
  },
  {
   "cell_type": "code",
   "execution_count": 18,
   "metadata": {},
   "outputs": [
    {
     "name": "stdout",
     "output_type": "stream",
     "text": [
      "+----------+-------------+--------------------+------------+\n",
      "|LocationID|      Borough|                Zone|service_zone|\n",
      "+----------+-------------+--------------------+------------+\n",
      "|         1|          EWR|      Newark Airport|         EWR|\n",
      "|         2|       Queens|         Jamaica Bay|   Boro Zone|\n",
      "|         3|        Bronx|Allerton/Pelham G...|   Boro Zone|\n",
      "|         4|    Manhattan|       Alphabet City| Yellow Zone|\n",
      "|         5|Staten Island|       Arden Heights|   Boro Zone|\n",
      "+----------+-------------+--------------------+------------+\n",
      "only showing top 5 rows\n",
      "\n"
     ]
    }
   ],
   "source": [
    "df2.show(5)"
   ]
  },
  {
   "cell_type": "code",
   "execution_count": 19,
   "metadata": {},
   "outputs": [
    {
     "name": "stdout",
     "output_type": "stream",
     "text": [
      "+--------+--------------------+---------------------+---------------+-------------+----------+------------------+------------+------------+------------+-----------+-----+-------+----------+------------+---------------------+------------+--------------------+-----------+\n",
      "|VendorID|tpep_pickup_datetime|tpep_dropoff_datetime|passenger_count|trip_distance|RatecodeID|store_and_fwd_flag|PULocationID|DOLocationID|payment_type|fare_amount|extra|mta_tax|tip_amount|tolls_amount|improvement_surcharge|total_amount|congestion_surcharge|airport_fee|\n",
      "+--------+--------------------+---------------------+---------------+-------------+----------+------------------+------------+------------+------------+-----------+-----+-------+----------+------------+---------------------+------------+--------------------+-----------+\n",
      "|       1| 2021-06-01 09:13:26|  2021-06-01 09:17:14|            1.0|          0.9|       1.0|                 N|         186|          50|           1|        5.0|  3.0|    0.5|       2.2|         0.0|                  0.3|        11.0|                 2.5|        0.0|\n",
      "|       1| 2021-06-01 09:32:23|  2021-06-01 10:07:04|            1.0|         23.0|       1.0|                 N|         132|          18|           2|       61.5| 1.75|    0.5|       0.0|        6.55|                  0.3|        70.6|                 0.0|       1.25|\n",
      "|       1| 2021-06-01 09:12:15|  2021-06-01 09:15:28|            0.0|          0.9|       1.0|                 N|         138|          70|           2|        5.0| 1.75|    0.5|       0.0|         0.0|                  0.3|        7.55|                 0.0|       1.25|\n",
      "|       1| 2021-06-01 09:35:00|  2021-06-01 09:53:17|            0.0|         11.2|       1.0|                 N|         138|         189|           1|       31.5| 1.75|    0.5|       8.5|         0.0|                  0.3|       42.55|                 0.0|       1.25|\n",
      "|       2| 2021-06-01 09:31:01|  2021-06-01 09:52:27|            1.0|         9.49|       1.0|                 N|         138|         142|           1|       28.5|  0.5|    0.5|      7.77|        6.55|                  0.3|       47.87|                 2.5|       1.25|\n",
      "+--------+--------------------+---------------------+---------------+-------------+----------+------------------+------------+------------+------------+-----------+-----+-------+----------+------------+---------------------+------------+--------------------+-----------+\n",
      "only showing top 5 rows\n",
      "\n"
     ]
    }
   ],
   "source": [
    "txdf.show(5)"
   ]
  },
  {
   "cell_type": "code",
   "execution_count": 20,
   "metadata": {},
   "outputs": [],
   "source": [
    "txdf.createOrReplaceTempView('taxi')"
   ]
  },
  {
   "cell_type": "code",
   "execution_count": 21,
   "metadata": {},
   "outputs": [
    {
     "name": "stdout",
     "output_type": "stream",
     "text": [
      "+--------+--------------------+---------------------+---------------+-------------+----------+------------------+------------+------------+------------+-----------+-----+-------+----------+------------+---------------------+------------+--------------------+-----------+----------+---------+--------------------+------------+\n",
      "|VendorID|tpep_pickup_datetime|tpep_dropoff_datetime|passenger_count|trip_distance|RatecodeID|store_and_fwd_flag|PULocationID|DOLocationID|payment_type|fare_amount|extra|mta_tax|tip_amount|tolls_amount|improvement_surcharge|total_amount|congestion_surcharge|airport_fee|LocationID|  Borough|                Zone|service_zone|\n",
      "+--------+--------------------+---------------------+---------------+-------------+----------+------------------+------------+------------+------------+-----------+-----+-------+----------+------------+---------------------+------------+--------------------+-----------+----------+---------+--------------------+------------+\n",
      "|       1| 2021-06-01 09:13:26|  2021-06-01 09:17:14|            1.0|          0.9|       1.0|                 N|         186|          50|           1|        5.0|  3.0|    0.5|       2.2|         0.0|                  0.3|        11.0|                 2.5|        0.0|       186|Manhattan|Penn Station/Madi...| Yellow Zone|\n",
      "|       1| 2021-06-01 09:32:23|  2021-06-01 10:07:04|            1.0|         23.0|       1.0|                 N|         132|          18|           2|       61.5| 1.75|    0.5|       0.0|        6.55|                  0.3|        70.6|                 0.0|       1.25|       132|   Queens|         JFK Airport|    Airports|\n",
      "|       1| 2021-06-01 09:12:15|  2021-06-01 09:15:28|            0.0|          0.9|       1.0|                 N|         138|          70|           2|        5.0| 1.75|    0.5|       0.0|         0.0|                  0.3|        7.55|                 0.0|       1.25|       138|   Queens|   LaGuardia Airport|    Airports|\n",
      "|       1| 2021-06-01 09:35:00|  2021-06-01 09:53:17|            0.0|         11.2|       1.0|                 N|         138|         189|           1|       31.5| 1.75|    0.5|       8.5|         0.0|                  0.3|       42.55|                 0.0|       1.25|       138|   Queens|   LaGuardia Airport|    Airports|\n",
      "|       2| 2021-06-01 09:31:01|  2021-06-01 09:52:27|            1.0|         9.49|       1.0|                 N|         138|         142|           1|       28.5|  0.5|    0.5|      7.77|        6.55|                  0.3|       47.87|                 2.5|       1.25|       138|   Queens|   LaGuardia Airport|    Airports|\n",
      "+--------+--------------------+---------------------+---------------+-------------+----------+------------------+------------+------------+------------+-----------+-----+-------+----------+------------+---------------------+------------+--------------------+-----------+----------+---------+--------------------+------------+\n",
      "only showing top 5 rows\n",
      "\n"
     ]
    }
   ],
   "source": [
    "qry = \"\"\"\n",
    "select *\n",
    "from taxi as t\n",
    "left join region_dataset as pz\n",
    "on t.PULocationID = pz.LocationID\n",
    "\"\"\"\n",
    "\n",
    "ss.sql(qry).show(5)"
   ]
  },
  {
   "cell_type": "code",
   "execution_count": 22,
   "metadata": {},
   "outputs": [
    {
     "name": "stdout",
     "output_type": "stream",
     "text": [
      "23/08/25 04:59:58 WARN package: Truncated the string representation of a plan since it was too large. This behavior can be adjusted by setting 'spark.sql.debug.maxToStringFields'.\n",
      "+--------+--------------------+---------------------+---------------+-------------+----------+------------------+------------+------------+------------+-----------+-----+-------+----------+------------+---------------------+------------+--------------------+-----------+----------+---------+--------------------+------------+----------+---------+-------------------+------------+\n",
      "|VendorID|tpep_pickup_datetime|tpep_dropoff_datetime|passenger_count|trip_distance|RatecodeID|store_and_fwd_flag|PULocationID|DOLocationID|payment_type|fare_amount|extra|mta_tax|tip_amount|tolls_amount|improvement_surcharge|total_amount|congestion_surcharge|airport_fee|LocationID|  Borough|                Zone|service_zone|LocationID|  Borough|               Zone|service_zone|\n",
      "+--------+--------------------+---------------------+---------------+-------------+----------+------------------+------------+------------+------------+-----------+-----+-------+----------+------------+---------------------+------------+--------------------+-----------+----------+---------+--------------------+------------+----------+---------+-------------------+------------+\n",
      "|       1| 2021-06-01 09:13:26|  2021-06-01 09:17:14|            1.0|          0.9|       1.0|                 N|         186|          50|           1|        5.0|  3.0|    0.5|       2.2|         0.0|                  0.3|        11.0|                 2.5|        0.0|       186|Manhattan|Penn Station/Madi...| Yellow Zone|        50|Manhattan|       Clinton West| Yellow Zone|\n",
      "|       1| 2021-06-01 09:32:23|  2021-06-01 10:07:04|            1.0|         23.0|       1.0|                 N|         132|          18|           2|       61.5| 1.75|    0.5|       0.0|        6.55|                  0.3|        70.6|                 0.0|       1.25|       132|   Queens|         JFK Airport|    Airports|        18|    Bronx|       Bedford Park|   Boro Zone|\n",
      "|       1| 2021-06-01 09:12:15|  2021-06-01 09:15:28|            0.0|          0.9|       1.0|                 N|         138|          70|           2|        5.0| 1.75|    0.5|       0.0|         0.0|                  0.3|        7.55|                 0.0|       1.25|       138|   Queens|   LaGuardia Airport|    Airports|        70|   Queens|      East Elmhurst|   Boro Zone|\n",
      "|       1| 2021-06-01 09:35:00|  2021-06-01 09:53:17|            0.0|         11.2|       1.0|                 N|         138|         189|           1|       31.5| 1.75|    0.5|       8.5|         0.0|                  0.3|       42.55|                 0.0|       1.25|       138|   Queens|   LaGuardia Airport|    Airports|       189| Brooklyn|   Prospect Heights|   Boro Zone|\n",
      "|       2| 2021-06-01 09:31:01|  2021-06-01 09:52:27|            1.0|         9.49|       1.0|                 N|         138|         142|           1|       28.5|  0.5|    0.5|      7.77|        6.55|                  0.3|       47.87|                 2.5|       1.25|       138|   Queens|   LaGuardia Airport|    Airports|       142|Manhattan|Lincoln Square East| Yellow Zone|\n",
      "+--------+--------------------+---------------------+---------------+-------------+----------+------------------+------------+------------+------------+-----------+-----+-------+----------+------------+---------------------+------------+--------------------+-----------+----------+---------+--------------------+------------+----------+---------+-------------------+------------+\n",
      "only showing top 5 rows\n",
      "\n"
     ]
    }
   ],
   "source": [
    "query = \"\"\"\n",
    "select *\n",
    "from taxi as t\n",
    "left join region_dataset as pz\n",
    "on t.PULocationID = pz.LocationID\n",
    "left join region_dataset as dz\n",
    "on t.DOLocationID = dz.LocationID\n",
    "\"\"\"\n",
    "                  \n",
    "df3 = ss.sql(query)\n",
    "df3.show(5)"
   ]
  },
  {
   "cell_type": "markdown",
   "metadata": {},
   "source": [
    "# CREATE TRIMMED DATAFRAME, ADD DRIVING_TIME COLUMN"
   ]
  },
  {
   "cell_type": "code",
   "execution_count": 23,
   "metadata": {},
   "outputs": [
    {
     "name": "stdout",
     "output_type": "stream",
     "text": [
      "+---------+-----------+-----------+--------------------+------------+------------+-------------------+-------------+-----------+---------------+------------+------------+------------+------------+\n",
      "|vendor_id|pickup_date|pickup_time|         pickup_zone|dropoff_date|dropoff_time|       dropoff_zone|trip_distance|fare_amount|passenger_count|driving_time|tolls_amount|total_amount|payment_type|\n",
      "+---------+-----------+-----------+--------------------+------------+------------+-------------------+-------------+-----------+---------------+------------+------------+------------+------------+\n",
      "|        1| 2021-06-01|   09:13:26|Penn Station/Madi...|  2021-06-01|    09:17:14|       Clinton West|          0.9|        5.0|            1.0|      0:3:48|         0.0|        11.0|           1|\n",
      "|        1| 2021-06-01|   09:32:23|         JFK Airport|  2021-06-01|    10:07:04|       Bedford Park|         23.0|       61.5|            1.0|     0:34:41|        6.55|        70.6|           2|\n",
      "|        1| 2021-06-01|   09:12:15|   LaGuardia Airport|  2021-06-01|    09:15:28|      East Elmhurst|          0.9|        5.0|            0.0|      0:3:13|         0.0|        7.55|           2|\n",
      "|        1| 2021-06-01|   09:35:00|   LaGuardia Airport|  2021-06-01|    09:53:17|   Prospect Heights|         11.2|       31.5|            0.0|     0:18:17|         0.0|       42.55|           1|\n",
      "|        2| 2021-06-01|   09:31:01|   LaGuardia Airport|  2021-06-01|    09:52:27|Lincoln Square East|         9.49|       28.5|            1.0|     0:21:26|        6.55|       47.87|           1|\n",
      "+---------+-----------+-----------+--------------------+------------+------------+-------------------+-------------+-----------+---------------+------------+------------+------------+------------+\n",
      "only showing top 5 rows\n",
      "\n"
     ]
    }
   ],
   "source": [
    "query2 = \"\"\"\n",
    "select t.VendorID as vendor_id,\n",
    "       to_date(t.tpep_pickup_datetime) as pickup_date,\n",
    "       split(t.tpep_pickup_datetime, ' ')[1] as pickup_time,\n",
    "       pz.Zone as pickup_zone,\n",
    "       to_date(t.tpep_dropoff_datetime) as dropoff_date,\n",
    "       split(t.tpep_dropoff_datetime, ' ')[1] as dropoff_time,\n",
    "       dz.Zone as dropoff_zone,\n",
    "       t.trip_distance as trip_distance,\n",
    "       t.fare_amount as fare_amount,\n",
    "       t.passenger_count as passenger_count,\n",
    "       concat(cast((unix_timestamp(t.tpep_dropoff_datetime) - unix_timestamp(t.tpep_pickup_datetime))/3600 as int), ':',\n",
    "              cast((unix_timestamp(t.tpep_dropoff_datetime) - unix_timestamp(t.tpep_pickup_datetime))/60 as int), ':',\n",
    "             (unix_timestamp(t.tpep_dropoff_datetime) - unix_timestamp(t.tpep_pickup_datetime))%60) as driving_time,   \n",
    "       t.tolls_amount as tolls_amount,\n",
    "       t.total_amount as total_amount,\n",
    "       t.payment_type as payment_type\n",
    "\n",
    "from taxi as t\n",
    "left join region_dataset as pz\n",
    "on t.PULocationID = pz.LocationID\n",
    "left join region_dataset as dz\n",
    "on t.DOLocationID = dz.LocationID\n",
    "\"\"\"\n",
    "\n",
    "new_df = ss.sql(query2)\n",
    "new_df.show(5)"
   ]
  },
  {
   "cell_type": "code",
   "execution_count": 24,
   "metadata": {},
   "outputs": [],
   "source": [
    "new_df.createOrReplaceTempView('new')"
   ]
  },
  {
   "cell_type": "code",
   "execution_count": 25,
   "metadata": {},
   "outputs": [
    {
     "name": "stdout",
     "output_type": "stream",
     "text": [
      "+-----------+-----------+\n",
      "|pickup_date|pickup_time|\n",
      "+-----------+-----------+\n",
      "| 2009-01-01|   09:59:52|\n",
      "| 2009-01-02|   01:25:16|\n",
      "| 2009-01-02|   01:16:55|\n",
      "| 2009-01-01|   09:05:12|\n",
      "| 2009-01-01|   09:03:36|\n",
      "| 2009-01-01|   09:07:24|\n",
      "| 2009-01-02|   04:16:00|\n",
      "| 2009-01-02|   04:44:57|\n",
      "| 2009-01-02|   05:24:51|\n",
      "| 2009-01-01|   08:15:05|\n",
      "| 2009-01-01|   08:31:09|\n",
      "| 2009-01-01|   08:48:11|\n",
      "| 2009-01-01|   09:08:11|\n",
      "| 2009-01-01|   09:04:50|\n",
      "| 2009-01-01|   09:05:20|\n",
      "| 2009-01-01|   09:02:29|\n",
      "| 2009-01-01|   09:05:02|\n",
      "| 2009-01-01|   09:03:03|\n",
      "| 2009-01-01|   09:03:23|\n",
      "| 2009-01-01|   09:07:04|\n",
      "+-----------+-----------+\n",
      "only showing top 20 rows\n",
      "\n"
     ]
    }
   ],
   "source": [
    "ss.sql(\"select pickup_date, pickup_time \\\n",
    "        from new \\\n",
    "        where pickup_date < '2020-12-31'\").show()"
   ]
  },
  {
   "cell_type": "markdown",
   "metadata": {},
   "source": [
    "# CHECK SKEWED DATA, WEIRD DATA"
   ]
  },
  {
   "cell_type": "code",
   "execution_count": 26,
   "metadata": {},
   "outputs": [
    {
     "name": "stderr",
     "output_type": "stream",
     "text": [
      "[Stage 35:===================>                                      (1 + 1) / 3]\r"
     ]
    },
    {
     "name": "stdout",
     "output_type": "stream",
     "text": [
      "+-------+-----------------+\n",
      "|summary|     total_amount|\n",
      "+-------+-----------------+\n",
      "|  count|         15000936|\n",
      "|   mean|  18.755400510292|\n",
      "| stddev|145.7431021908545|\n",
      "|    min|           -647.8|\n",
      "|    max|         398469.2|\n",
      "+-------+-----------------+\n",
      "\n"
     ]
    },
    {
     "name": "stderr",
     "output_type": "stream",
     "text": [
      "                                                                                \r"
     ]
    }
   ],
   "source": [
    "new_df.select('total_amount').describe().show()"
   ]
  },
  {
   "cell_type": "code",
   "execution_count": 27,
   "metadata": {},
   "outputs": [
    {
     "name": "stderr",
     "output_type": "stream",
     "text": [
      "[Stage 39:======================================>                   (2 + 1) / 3]\r"
     ]
    },
    {
     "name": "stdout",
     "output_type": "stream",
     "text": [
      "+-------+-----------------+\n",
      "|summary|    trip_distance|\n",
      "+-------+-----------------+\n",
      "|  count|         15000936|\n",
      "|   mean|6.628556730060513|\n",
      "| stddev|671.7240645480996|\n",
      "|    min|              0.0|\n",
      "|    max|        332541.19|\n",
      "+-------+-----------------+\n",
      "\n"
     ]
    },
    {
     "name": "stderr",
     "output_type": "stream",
     "text": [
      "                                                                                \r"
     ]
    }
   ],
   "source": [
    "new_df.select('trip_distance').describe().show()"
   ]
  },
  {
   "cell_type": "code",
   "execution_count": 28,
   "metadata": {},
   "outputs": [
    {
     "name": "stderr",
     "output_type": "stream",
     "text": [
      "[Stage 43:======================================>                   (2 + 1) / 3]\r"
     ]
    },
    {
     "name": "stdout",
     "output_type": "stream",
     "text": [
      "+-------+------------------+\n",
      "|summary|   passenger_count|\n",
      "+-------+------------------+\n",
      "|  count|          14166908|\n",
      "|   mean|1.4253582362502812|\n",
      "| stddev| 1.044333600318898|\n",
      "|    min|               0.0|\n",
      "|    max|               9.0|\n",
      "+-------+------------------+\n",
      "\n"
     ]
    },
    {
     "name": "stderr",
     "output_type": "stream",
     "text": [
      "                                                                                \r"
     ]
    }
   ],
   "source": [
    "new_df.select('passenger_count').describe().show()"
   ]
  },
  {
   "cell_type": "code",
   "execution_count": 29,
   "metadata": {},
   "outputs": [
    {
     "name": "stderr",
     "output_type": "stream",
     "text": [
      "[Stage 47:======================================>                   (2 + 1) / 3]\r"
     ]
    },
    {
     "name": "stdout",
     "output_type": "stream",
     "text": [
      "+-------------------+-------+\n",
      "|              month|  trips|\n",
      "+-------------------+-------+\n",
      "|2003-01-01 00:00:00|      2|\n",
      "|2004-04-01 00:00:00|      1|\n",
      "|2009-01-01 00:00:00|    137|\n",
      "|2020-12-01 00:00:00|      1|\n",
      "|2021-01-01 00:00:00|1355332|\n",
      "|2021-02-01 00:00:00|1368619|\n",
      "|2021-03-01 00:00:00|1910234|\n",
      "|2021-04-01 00:00:00|2156143|\n",
      "|2021-05-01 00:00:00|2522860|\n",
      "|2021-06-01 00:00:00|2813017|\n",
      "|2021-07-01 00:00:00|2825121|\n",
      "|2021-08-01 00:00:00|  49452|\n",
      "|2021-09-01 00:00:00|      3|\n",
      "|2021-10-01 00:00:00|      3|\n",
      "|2021-11-01 00:00:00|      5|\n",
      "|2021-12-01 00:00:00|      5|\n",
      "|2029-05-01 00:00:00|      1|\n",
      "+-------------------+-------+\n",
      "\n"
     ]
    },
    {
     "name": "stderr",
     "output_type": "stream",
     "text": [
      "                                                                                \r"
     ]
    }
   ],
   "source": [
    "fliter_query = \"\"\"\n",
    "select date_trunc('MM', n.pickup_date) as month, count(*) as trips\n",
    "from new as n\n",
    "group by month\n",
    "order by month;\n",
    "\"\"\"\n",
    "\n",
    "ss.sql(fliter_query).show()"
   ]
  },
  {
   "cell_type": "markdown",
   "metadata": {},
   "source": [
    "# MAKE CLEAN DATAFRAME FOR ML"
   ]
  },
  {
   "cell_type": "code",
   "execution_count": 30,
   "metadata": {},
   "outputs": [],
   "source": [
    "eda_df = ss.sql(\"\"\"\n",
    "                select *\n",
    "                from new as n\n",
    "                where (n.total_amount < 2000 and \\\n",
    "                n.trip_distance < 100 and \\\n",
    "                n.passenger_count <= 5 and \\\n",
    "                '2021-01-01' <= n.pickup_date and\\\n",
    "                n.pickup_date <= '2021-08-31') \\\n",
    "                \"\"\")\n",
    "  \n",
    "eda_df.createOrReplaceTempView('eda')"
   ]
  },
  {
   "cell_type": "code",
   "execution_count": 31,
   "metadata": {},
   "outputs": [],
   "source": [
    "import numpy as np\n",
    "import pandas as pd\n",
    "import seaborn as sns\n",
    "import matplotlib.pyplot as plt\n",
    "import matplotlib.dates as mdates"
   ]
  },
  {
   "cell_type": "code",
   "execution_count": 32,
   "metadata": {},
   "outputs": [
    {
     "name": "stderr",
     "output_type": "stream",
     "text": [
      "[Stage 51:======================================>                   (2 + 1) / 3]\r"
     ]
    },
    {
     "name": "stdout",
     "output_type": "stream",
     "text": [
      "+-----------+-----+\n",
      "|pickup_date|trips|\n",
      "+-----------+-----+\n",
      "| 2021-06-22|88656|\n",
      "| 2021-07-20|82965|\n",
      "| 2021-07-30|90414|\n",
      "| 2021-07-17|96509|\n",
      "| 2021-07-23|95297|\n",
      "| 2021-07-19|77126|\n",
      "| 2021-07-10|88280|\n",
      "| 2021-06-04|90452|\n",
      "| 2021-07-13|82674|\n",
      "| 2021-07-11|83869|\n",
      "| 2021-06-20|84944|\n",
      "| 2021-06-27|86197|\n",
      "| 2021-07-08|92741|\n",
      "| 2021-06-28|77177|\n",
      "| 2021-06-01|69447|\n",
      "| 2021-06-17|96317|\n",
      "| 2021-05-31|48379|\n",
      "| 2021-06-13|84399|\n",
      "| 2021-07-03|75796|\n",
      "| 2021-08-01|46648|\n",
      "+-----------+-----+\n",
      "only showing top 20 rows\n",
      "\n"
     ]
    },
    {
     "name": "stderr",
     "output_type": "stream",
     "text": [
      "                                                                                \r"
     ]
    }
   ],
   "source": [
    "query_daily_trip_count = \"\"\"\n",
    "select e.pickup_date, count(*) as trips\n",
    "from eda as e\n",
    "group by e.pickup_date\n",
    "\"\"\"\n",
    "\n",
    "ss.sql(query_daily_trip_count).show()"
   ]
  },
  {
   "cell_type": "code",
   "execution_count": 33,
   "metadata": {},
   "outputs": [
    {
     "name": "stderr",
     "output_type": "stream",
     "text": [
      "                                                                                \r"
     ]
    }
   ],
   "source": [
    "pd_daily_trip_count = ss.sql(query_daily_trip_count).toPandas()"
   ]
  },
  {
   "cell_type": "code",
   "execution_count": 34,
   "metadata": {},
   "outputs": [
    {
     "data": {
      "text/html": [
       "<div>\n",
       "<style scoped>\n",
       "    .dataframe tbody tr th:only-of-type {\n",
       "        vertical-align: middle;\n",
       "    }\n",
       "\n",
       "    .dataframe tbody tr th {\n",
       "        vertical-align: top;\n",
       "    }\n",
       "\n",
       "    .dataframe thead th {\n",
       "        text-align: right;\n",
       "    }\n",
       "</style>\n",
       "<table border=\"1\" class=\"dataframe\">\n",
       "  <thead>\n",
       "    <tr style=\"text-align: right;\">\n",
       "      <th></th>\n",
       "      <th>pickup_date</th>\n",
       "      <th>trips</th>\n",
       "    </tr>\n",
       "  </thead>\n",
       "  <tbody>\n",
       "    <tr>\n",
       "      <th>0</th>\n",
       "      <td>2021-06-22</td>\n",
       "      <td>88656</td>\n",
       "    </tr>\n",
       "    <tr>\n",
       "      <th>1</th>\n",
       "      <td>2021-07-20</td>\n",
       "      <td>82965</td>\n",
       "    </tr>\n",
       "    <tr>\n",
       "      <th>2</th>\n",
       "      <td>2021-07-30</td>\n",
       "      <td>90414</td>\n",
       "    </tr>\n",
       "    <tr>\n",
       "      <th>3</th>\n",
       "      <td>2021-07-17</td>\n",
       "      <td>96509</td>\n",
       "    </tr>\n",
       "    <tr>\n",
       "      <th>4</th>\n",
       "      <td>2021-07-23</td>\n",
       "      <td>95297</td>\n",
       "    </tr>\n",
       "    <tr>\n",
       "      <th>...</th>\n",
       "      <td>...</td>\n",
       "      <td>...</td>\n",
       "    </tr>\n",
       "    <tr>\n",
       "      <th>211</th>\n",
       "      <td>2021-02-28</td>\n",
       "      <td>43162</td>\n",
       "    </tr>\n",
       "    <tr>\n",
       "      <th>212</th>\n",
       "      <td>2021-01-20</td>\n",
       "      <td>44718</td>\n",
       "    </tr>\n",
       "    <tr>\n",
       "      <th>213</th>\n",
       "      <td>2021-01-28</td>\n",
       "      <td>48994</td>\n",
       "    </tr>\n",
       "    <tr>\n",
       "      <th>214</th>\n",
       "      <td>2021-01-06</td>\n",
       "      <td>42775</td>\n",
       "    </tr>\n",
       "    <tr>\n",
       "      <th>215</th>\n",
       "      <td>2021-02-04</td>\n",
       "      <td>52317</td>\n",
       "    </tr>\n",
       "  </tbody>\n",
       "</table>\n",
       "<p>216 rows × 2 columns</p>\n",
       "</div>"
      ],
      "text/plain": [
       "    pickup_date  trips\n",
       "0    2021-06-22  88656\n",
       "1    2021-07-20  82965\n",
       "2    2021-07-30  90414\n",
       "3    2021-07-17  96509\n",
       "4    2021-07-23  95297\n",
       "..          ...    ...\n",
       "211  2021-02-28  43162\n",
       "212  2021-01-20  44718\n",
       "213  2021-01-28  48994\n",
       "214  2021-01-06  42775\n",
       "215  2021-02-04  52317\n",
       "\n",
       "[216 rows x 2 columns]"
      ]
     },
     "execution_count": 34,
     "metadata": {},
     "output_type": "execute_result"
    }
   ],
   "source": [
    "pd_daily_trip_count"
   ]
  },
  {
   "cell_type": "code",
   "execution_count": 35,
   "metadata": {},
   "outputs": [
    {
     "data": {
      "image/png": "[encoded data removed]",
      "text/plain": [
       "<Figure size 1600x600 with 1 Axes>"
      ]
     },
     "metadata": {},
     "output_type": "display_data"
    }
   ],
   "source": [
    "fig, ax = plt.subplots(figsize = (16,6)) # 액자\n",
    "sns.lineplot(x = 'pickup_date', y = 'trips', data = pd_daily_trip_count)\n",
    "plt.show()"
   ]
  },
  {
   "cell_type": "code",
   "execution_count": 36,
   "metadata": {},
   "outputs": [
    {
     "name": "stderr",
     "output_type": "stream",
     "text": [
      "                                                                                \r"
     ]
    }
   ],
   "source": [
    "query_daily_trip_count2 = \"\"\"\n",
    "select e.pickup_date, count(*) as trips, date_format(e.pickup_date, 'EEEE') as day\n",
    "from eda as e\n",
    "group by e.pickup_date, day\n",
    "\"\"\"\n",
    "\n",
    "pd_daily_trip_count2 = ss.sql(query_daily_trip_count2).toPandas()"
   ]
  },
  {
   "cell_type": "code",
   "execution_count": 37,
   "metadata": {},
   "outputs": [
    {
     "name": "stderr",
     "output_type": "stream",
     "text": [
      "[Stage 63:======================================>                   (2 + 1) / 3]\r"
     ]
    },
    {
     "name": "stdout",
     "output_type": "stream",
     "text": [
      "+-----------+-----+---------+\n",
      "|pickup_date|trips|      day|\n",
      "+-----------+-----+---------+\n",
      "| 2021-07-30|90414|   Friday|\n",
      "| 2021-06-03|88676| Thursday|\n",
      "| 2021-06-25|95998|   Friday|\n",
      "| 2021-07-11|83869|   Sunday|\n",
      "| 2021-07-21|89452|Wednesday|\n",
      "| 2021-07-23|95297|   Friday|\n",
      "| 2021-06-22|88656|  Tuesday|\n",
      "| 2021-06-15|85058|  Tuesday|\n",
      "| 2021-07-20|82965|  Tuesday|\n",
      "| 2021-07-27|87040|  Tuesday|\n",
      "| 2021-07-28|93461|Wednesday|\n",
      "| 2021-06-26|96938| Saturday|\n",
      "| 2021-06-05|88893| Saturday|\n",
      "| 2021-07-12|75160|   Monday|\n",
      "| 2021-08-10|    3|  Tuesday|\n",
      "| 2021-06-23|92850|Wednesday|\n",
      "| 2021-07-18|81517|   Sunday|\n",
      "| 2021-07-05|56800|   Monday|\n",
      "| 2021-06-13|84399|   Sunday|\n",
      "| 2021-06-29|87603|  Tuesday|\n",
      "+-----------+-----+---------+\n",
      "only showing top 20 rows\n",
      "\n"
     ]
    },
    {
     "name": "stderr",
     "output_type": "stream",
     "text": [
      "                                                                                \r"
     ]
    }
   ],
   "source": [
    "ss.sql(query_daily_trip_count2).show()"
   ]
  },
  {
   "cell_type": "code",
   "execution_count": 38,
   "metadata": {},
   "outputs": [
    {
     "data": {
      "text/html": [
       "<div>\n",
       "<style scoped>\n",
       "    .dataframe tbody tr th:only-of-type {\n",
       "        vertical-align: middle;\n",
       "    }\n",
       "\n",
       "    .dataframe tbody tr th {\n",
       "        vertical-align: top;\n",
       "    }\n",
       "\n",
       "    .dataframe thead th {\n",
       "        text-align: right;\n",
       "    }\n",
       "</style>\n",
       "<table border=\"1\" class=\"dataframe\">\n",
       "  <thead>\n",
       "    <tr style=\"text-align: right;\">\n",
       "      <th></th>\n",
       "      <th>day</th>\n",
       "      <th>trips</th>\n",
       "    </tr>\n",
       "  </thead>\n",
       "  <tbody>\n",
       "    <tr>\n",
       "      <th>0</th>\n",
       "      <td>Friday</td>\n",
       "      <td>71173.0</td>\n",
       "    </tr>\n",
       "    <tr>\n",
       "      <th>1</th>\n",
       "      <td>Monday</td>\n",
       "      <td>52204.0</td>\n",
       "    </tr>\n",
       "    <tr>\n",
       "      <th>2</th>\n",
       "      <td>Saturday</td>\n",
       "      <td>70183.0</td>\n",
       "    </tr>\n",
       "    <tr>\n",
       "      <th>3</th>\n",
       "      <td>Sunday</td>\n",
       "      <td>58471.0</td>\n",
       "    </tr>\n",
       "    <tr>\n",
       "      <th>4</th>\n",
       "      <td>Thursday</td>\n",
       "      <td>75091.5</td>\n",
       "    </tr>\n",
       "    <tr>\n",
       "      <th>5</th>\n",
       "      <td>Tuesday</td>\n",
       "      <td>62550.5</td>\n",
       "    </tr>\n",
       "    <tr>\n",
       "      <th>6</th>\n",
       "      <td>Wednesday</td>\n",
       "      <td>70728.0</td>\n",
       "    </tr>\n",
       "  </tbody>\n",
       "</table>\n",
       "</div>"
      ],
      "text/plain": [
       "         day    trips\n",
       "0     Friday  71173.0\n",
       "1     Monday  52204.0\n",
       "2   Saturday  70183.0\n",
       "3     Sunday  58471.0\n",
       "4   Thursday  75091.5\n",
       "5    Tuesday  62550.5\n",
       "6  Wednesday  70728.0"
      ]
     },
     "execution_count": 38,
     "metadata": {},
     "output_type": "execute_result"
    }
   ],
   "source": [
    "data2 = pd_daily_trip_count2.groupby('day').trips.median().to_frame().reset_index()\n",
    "data2"
   ]
  },
  {
   "cell_type": "code",
   "execution_count": 39,
   "metadata": {},
   "outputs": [
    {
     "data": {
      "image/png": "[encoded data removed]",
      "text/plain": [
       "<Figure size 1600x600 with 1 Axes>"
      ]
     },
     "metadata": {},
     "output_type": "display_data"
    }
   ],
   "source": [
    "fig, ax = plt.subplots(figsize=(16,6))\n",
    "sns.barplot(x = 'day', y = 'trips', data = data2)\n",
    "plt.show()"
   ]
  },
  {
   "cell_type": "code",
   "execution_count": 40,
   "metadata": {},
   "outputs": [
    {
     "data": {
      "text/html": [
       "<div>\n",
       "<style scoped>\n",
       "    .dataframe tbody tr th:only-of-type {\n",
       "        vertical-align: middle;\n",
       "    }\n",
       "\n",
       "    .dataframe tbody tr th {\n",
       "        vertical-align: top;\n",
       "    }\n",
       "\n",
       "    .dataframe thead th {\n",
       "        text-align: right;\n",
       "    }\n",
       "</style>\n",
       "<table border=\"1\" class=\"dataframe\">\n",
       "  <thead>\n",
       "    <tr style=\"text-align: right;\">\n",
       "      <th></th>\n",
       "      <th>day</th>\n",
       "      <th>trips</th>\n",
       "      <th>sort_day</th>\n",
       "    </tr>\n",
       "  </thead>\n",
       "  <tbody>\n",
       "    <tr>\n",
       "      <th>3</th>\n",
       "      <td>Sunday</td>\n",
       "      <td>58471.0</td>\n",
       "      <td>0</td>\n",
       "    </tr>\n",
       "    <tr>\n",
       "      <th>1</th>\n",
       "      <td>Monday</td>\n",
       "      <td>52204.0</td>\n",
       "      <td>1</td>\n",
       "    </tr>\n",
       "    <tr>\n",
       "      <th>5</th>\n",
       "      <td>Tuesday</td>\n",
       "      <td>62550.5</td>\n",
       "      <td>2</td>\n",
       "    </tr>\n",
       "    <tr>\n",
       "      <th>6</th>\n",
       "      <td>Wednesday</td>\n",
       "      <td>70728.0</td>\n",
       "      <td>3</td>\n",
       "    </tr>\n",
       "    <tr>\n",
       "      <th>4</th>\n",
       "      <td>Thursday</td>\n",
       "      <td>75091.5</td>\n",
       "      <td>4</td>\n",
       "    </tr>\n",
       "    <tr>\n",
       "      <th>0</th>\n",
       "      <td>Friday</td>\n",
       "      <td>71173.0</td>\n",
       "      <td>5</td>\n",
       "    </tr>\n",
       "    <tr>\n",
       "      <th>2</th>\n",
       "      <td>Saturday</td>\n",
       "      <td>70183.0</td>\n",
       "      <td>6</td>\n",
       "    </tr>\n",
       "  </tbody>\n",
       "</table>\n",
       "</div>"
      ],
      "text/plain": [
       "         day    trips  sort_day\n",
       "3     Sunday  58471.0         0\n",
       "1     Monday  52204.0         1\n",
       "5    Tuesday  62550.5         2\n",
       "6  Wednesday  70728.0         3\n",
       "4   Thursday  75091.5         4\n",
       "0     Friday  71173.0         5\n",
       "2   Saturday  70183.0         6"
      ]
     },
     "execution_count": 40,
     "metadata": {},
     "output_type": "execute_result"
    }
   ],
   "source": [
    "data2['sort_day'] = data2['day'].replace({\n",
    "                                       'Sunday' : 0,\n",
    "                                       'Monday' : 1,\n",
    "                                       'Tuesday' : 2,\n",
    "                                       'Wednesday' : 3,\n",
    "                                       'Thursday' : 4,\n",
    "                                       'Friday' : 5,\n",
    "                                       'Saturday' : 6\n",
    "                                       })\n",
    "\n",
    "data2.sort_values(by='sort_day', inplace = True)\n",
    "data2"
   ]
  },
  {
   "cell_type": "code",
   "execution_count": 41,
   "metadata": {},
   "outputs": [
    {
     "data": {
      "image/png": "[encoded data removed]",
      "text/plain": [
       "<Figure size 1600x600 with 1 Axes>"
      ]
     },
     "metadata": {},
     "output_type": "display_data"
    }
   ],
   "source": [
    "fig, ax = plt.subplots(figsize=(16,6))\n",
    "sns.barplot(x = 'day', y = 'trips', data = data2)\n",
    "plt.show()"
   ]
  },
  {
   "cell_type": "code",
   "execution_count": 42,
   "metadata": {},
   "outputs": [
    {
     "name": "stdout",
     "output_type": "stream",
     "text": [
      "23/08/25 05:00:35 WARN SimpleFunctionRegistry: The function weekday replaced a previously registered function.\n"
     ]
    },
    {
     "data": {
      "text/plain": [
       "<function __main__.weekday(data)>"
      ]
     },
     "execution_count": 42,
     "metadata": {},
     "output_type": "execute_result"
    }
   ],
   "source": [
    "def weekday(data):\n",
    "    import calendar\n",
    "    return calendar.day_name(data.weekday())\n",
    "\n",
    "ss.udf.register('weekday', weekday)\n",
    "\n",
    "# udf : user defined function\n",
    "\n",
    "# make function and query"
   ]
  },
  {
   "cell_type": "code",
   "execution_count": 43,
   "metadata": {},
   "outputs": [
    {
     "data": {
      "text/plain": [
       "<function __main__.parse_payment_type(payment_type)>"
      ]
     },
     "execution_count": 43,
     "metadata": {},
     "output_type": "execute_result"
    }
   ],
   "source": [
    "payment_type_category = {\n",
    "    1 : 'CREDIT CARD',\n",
    "    2 : 'CASH',\n",
    "    3 : 'NO CHARGE',\n",
    "    4 : 'DISPUTE',\n",
    "    5 : 'UNKNOWN',\n",
    "    6 : 'CANCEL',\n",
    "}\n",
    "\n",
    "def parse_payment_type(payment_type):\n",
    "    return payment_type_category[payment_type]\n",
    "\n",
    "ss.udf.register('parse_payment_type', parse_payment_type)"
   ]
  },
  {
   "cell_type": "code",
   "execution_count": 44,
   "metadata": {},
   "outputs": [
    {
     "name": "stderr",
     "output_type": "stream",
     "text": [
      "[Stage 67:======================================>                   (2 + 1) / 3]\r"
     ]
    },
    {
     "name": "stdout",
     "output_type": "stream",
     "text": [
      "+------------+--------+---------------+---------------+\n",
      "|payment_type|   trips|avg_fare_amount|std_fare_amount|\n",
      "+------------+--------+---------------+---------------+\n",
      "|     UNKNOWN|       1|           17.8|           null|\n",
      "| CREDIT CARD|10537182|          12.22|          10.81|\n",
      "|   NO CHARGE|   80970|           6.69|          17.45|\n",
      "|        CASH| 3249790|          11.91|          11.32|\n",
      "|     DISPUTE|   59468|          -2.09|          19.45|\n",
      "+------------+--------+---------------+---------------+\n",
      "\n"
     ]
    },
    {
     "name": "stderr",
     "output_type": "stream",
     "text": [
      "                                                                                \r"
     ]
    }
   ],
   "source": [
    "parse_payment_query = \"\"\"\n",
    "select parse_payment_type(payment_type) as payment_type, \\\n",
    "    count(*) as trips, \\\n",
    "    round(mean(fare_amount), 2) as avg_fare_amount, \\\n",
    "    round(std(fare_amount), 2) as std_fare_amount\n",
    "from eda\n",
    "group by payment_type\n",
    "\"\"\"\n",
    "\n",
    "ss.sql(parse_payment_query).show()"
   ]
  },
  {
   "cell_type": "code",
   "execution_count": 45,
   "metadata": {},
   "outputs": [
    {
     "name": "stderr",
     "output_type": "stream",
     "text": [
      "                                                                                \r"
     ]
    }
   ],
   "source": [
    "payment_df = ss.sql(parse_payment_query).toPandas()"
   ]
  },
  {
   "cell_type": "code",
   "execution_count": 46,
   "metadata": {},
   "outputs": [
    {
     "data": {
      "image/png": "[encoded data removed]",
      "text/plain": [
       "<Figure size 1600x600 with 1 Axes>"
      ]
     },
     "metadata": {},
     "output_type": "display_data"
    }
   ],
   "source": [
    "fig, ax = plt.subplots(figsize = (16, 6))\n",
    "sns.barplot(x = 'payment_type', y = 'trips', data = payment_df)\n",
    "plt.show()"
   ]
  },
  {
   "cell_type": "code",
   "execution_count": 47,
   "metadata": {},
   "outputs": [
    {
     "data": {
      "text/html": [
       "<div>\n",
       "<style scoped>\n",
       "    .dataframe tbody tr th:only-of-type {\n",
       "        vertical-align: middle;\n",
       "    }\n",
       "\n",
       "    .dataframe tbody tr th {\n",
       "        vertical-align: top;\n",
       "    }\n",
       "\n",
       "    .dataframe thead th {\n",
       "        text-align: right;\n",
       "    }\n",
       "</style>\n",
       "<table border=\"1\" class=\"dataframe\">\n",
       "  <thead>\n",
       "    <tr style=\"text-align: right;\">\n",
       "      <th></th>\n",
       "      <th>payment_type</th>\n",
       "      <th>trips</th>\n",
       "      <th>avg_fare_amount</th>\n",
       "      <th>std_fare_amount</th>\n",
       "    </tr>\n",
       "  </thead>\n",
       "  <tbody>\n",
       "    <tr>\n",
       "      <th>0</th>\n",
       "      <td>UNKNOWN</td>\n",
       "      <td>1</td>\n",
       "      <td>17.80</td>\n",
       "      <td>NaN</td>\n",
       "    </tr>\n",
       "    <tr>\n",
       "      <th>1</th>\n",
       "      <td>CREDIT CARD</td>\n",
       "      <td>10537182</td>\n",
       "      <td>12.22</td>\n",
       "      <td>10.81</td>\n",
       "    </tr>\n",
       "    <tr>\n",
       "      <th>2</th>\n",
       "      <td>NO CHARGE</td>\n",
       "      <td>80970</td>\n",
       "      <td>6.69</td>\n",
       "      <td>17.45</td>\n",
       "    </tr>\n",
       "    <tr>\n",
       "      <th>3</th>\n",
       "      <td>CASH</td>\n",
       "      <td>3249790</td>\n",
       "      <td>11.91</td>\n",
       "      <td>11.32</td>\n",
       "    </tr>\n",
       "    <tr>\n",
       "      <th>4</th>\n",
       "      <td>DISPUTE</td>\n",
       "      <td>59468</td>\n",
       "      <td>-2.09</td>\n",
       "      <td>19.45</td>\n",
       "    </tr>\n",
       "  </tbody>\n",
       "</table>\n",
       "</div>"
      ],
      "text/plain": [
       "  payment_type     trips  avg_fare_amount  std_fare_amount\n",
       "0      UNKNOWN         1            17.80              NaN\n",
       "1  CREDIT CARD  10537182            12.22            10.81\n",
       "2    NO CHARGE     80970             6.69            17.45\n",
       "3         CASH   3249790            11.91            11.32\n",
       "4      DISPUTE     59468            -2.09            19.45"
      ]
     },
     "execution_count": 47,
     "metadata": {},
     "output_type": "execute_result"
    }
   ],
   "source": [
    "payment_df"
   ]
  },
  {
   "cell_type": "code",
   "execution_count": 48,
   "metadata": {},
   "outputs": [
    {
     "name": "stderr",
     "output_type": "stream",
     "text": [
      "                                                                                \r"
     ]
    }
   ],
   "source": [
    "eda_df.coalesce(10).write.csv('/dir/new_folder') "
   ]
  }
 ],
 "metadata": {
  "kernelspec": {
   "display_name": "newkaf",
   "language": "python",
   "name": "python3"
  },
  "language_info": {
   "codemirror_mode": {
    "name": "ipython",
    "version": 3
   },
   "file_extension": ".py",
   "mimetype": "text/x-python",
   "name": "python",
   "nbconvert_exporter": "python",
   "pygments_lexer": "ipython3",
   "version": "3.8.17"
  },
  "orig_nbformat": 4
 },
 "nbformat": 4,
 "nbformat_minor": 2
}
