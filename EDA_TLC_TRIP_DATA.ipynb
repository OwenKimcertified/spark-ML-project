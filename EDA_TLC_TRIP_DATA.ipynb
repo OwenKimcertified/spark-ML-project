{
 "cells": [
  {
   "cell_type": "markdown",
   "metadata": {},
   "source": [
    "### TLC TRIP DATA \n",
    "\n",
    "### 2021 JEN ~ JUL YELLOW_TAXI_TRIP_RECORDS.PARQUET \n",
    "\n",
    "### TAXI_ZONE_MAPS & LOOKUP TABLES.CSV"
   ]
  },
  {
   "cell_type": "code",
   "execution_count": 1,
   "metadata": {},
   "outputs": [
    {
     "name": "stdout",
     "output_type": "stream",
     "text": [
      "23/10/17 04:19:05 WARN Utils: Your hostname, happy resolves to a loopback address: 127.0.1.1; using 192.168.219.109 instead (on interface wlp1s0)\n",
      "23/10/17 04:19:05 WARN Utils: Set SPARK_LOCAL_IP if you need to bind to another address\n"
     ]
    },
    {
     "name": "stderr",
     "output_type": "stream",
     "text": [
      "Setting default log level to \"WARN\".\n",
      "To adjust logging level use sc.setLogLevel(newLevel). For SparkR, use setLogLevel(newLevel).\n"
     ]
    },
    {
     "name": "stdout",
     "output_type": "stream",
     "text": [
      "23/10/17 04:19:05 WARN NativeCodeLoader: Unable to load native-hadoop library for your platform... using builtin-java classes where applicable\n"
     ]
    }
   ],
   "source": [
    "from pyspark.sql import SparkSession\n",
    "from pyspark.sql.functions import isnan, when, count, sum, col\n",
    "\n",
    "\n",
    "ss = SparkSession.builder.appName('test').getOrCreate()"
   ]
  },
  {
   "cell_type": "code",
   "execution_count": 27,
   "metadata": {},
   "outputs": [],
   "source": [
    "import numpy as np\n",
    "import pandas as pd\n",
    "import seaborn as sns\n",
    "import matplotlib.pyplot as plt\n",
    "import matplotlib.dates as mdates"
   ]
  },
  {
   "cell_type": "code",
   "execution_count": 2,
   "metadata": {},
   "outputs": [
    {
     "name": "stderr",
     "output_type": "stream",
     "text": [
      "                                                                                \r"
     ]
    }
   ],
   "source": [
    "dir = '/home/owen/workspace/spark_warehouse/data-engineering/01-spark/dataset/'\n",
    "\n",
    "file = '03newdata.csv'\n",
    "\n",
    "data = ss.read.csv(f\"file:///{dir}/{file}\", inferSchema = True, header = True)"
   ]
  },
  {
   "cell_type": "code",
   "execution_count": 3,
   "metadata": {},
   "outputs": [
    {
     "name": "stdout",
     "output_type": "stream",
     "text": [
      "+-----------------+--------------------+--------------------+-------------------+-------------------+-------------------+-------------------+------------+------------+----------+---------+-------------------+-----+----+---------+--------------------+-----------+----+----------+-------------------+-----------------+------------------+----------------+--------------+\n",
      "|hvfhs_license_num|dispatching_base_num|originating_base_num|   request_datetime|  on_scene_datetime|    pickup_datetime|   dropoff_datetime|PULocationID|DOLocationID|trip_miles|trip_time|base_passenger_fare|tolls| bcf|sales_tax|congestion_surcharge|airport_fee|tips|driver_pay|shared_request_flag|shared_match_flag|access_a_ride_flag|wav_request_flag|wav_match_flag|\n",
      "+-----------------+--------------------+--------------------+-------------------+-------------------+-------------------+-------------------+------------+------------+----------+---------+-------------------+-----+----+---------+--------------------+-----------+----+----------+-------------------+-----------------+------------------+----------------+--------------+\n",
      "|           HV0005|              B02510|                null|2020-03-01 00:00:12|               null|2020-03-01 00:03:40|2020-03-01 00:23:39|          81|         159|     8.655|     1199|              24.45|  0.0|0.54|      1.9|                 0.0|       null| 0.0|     19.65|                  N|                N|                 N|               N|             N|\n",
      "|           HV0005|              B02510|                null|2020-03-01 00:22:03|               null|2020-03-01 00:28:05|2020-03-01 00:38:57|         168|         119|     3.523|      652|              11.88|  0.0|0.24|     0.85|                 0.0|       null| 0.0|      9.37|                  N|                N|                 N|               N|             N|\n",
      "|           HV0003|              B02764|              B02764|2020-02-29 23:57:45|2020-03-01 00:01:04|2020-03-01 00:03:07|2020-03-01 00:15:04|         137|         209|      4.07|      717|              14.57|  0.0|0.38|     1.38|                2.75|       null| 0.0|     16.24|                  N|                Y|                  |               N|             N|\n",
      "|           HV0003|              B02764|              B02764|2020-03-01 00:04:06|2020-03-01 00:15:48|2020-03-01 00:18:42|2020-03-01 00:38:42|         209|          80|      4.73|     1200|              13.89|  0.0|0.35|     1.23|                0.75|       null| 0.0|     21.76|                  Y|                N|                  |               N|             N|\n",
      "|           HV0003|              B02764|              B02764|2020-03-01 00:42:46|2020-03-01 00:43:18|2020-03-01 00:44:24|2020-03-01 00:58:44|         256|         226|      4.03|      860|               20.2|  0.0|0.51|     1.79|                 0.0|       null| 0.0|     19.64|                  N|                N|                  |               N|             N|\n",
      "+-----------------+--------------------+--------------------+-------------------+-------------------+-------------------+-------------------+------------+------------+----------+---------+-------------------+-----+----+---------+--------------------+-----------+----+----------+-------------------+-----------------+------------------+----------------+--------------+\n",
      "only showing top 5 rows\n",
      "\n"
     ]
    }
   ],
   "source": [
    "df = data.drop('_c0')\n",
    "\n",
    "df.show(5)"
   ]
  },
  {
   "cell_type": "code",
   "execution_count": 4,
   "metadata": {},
   "outputs": [],
   "source": [
    "null_counts = [sum(col(c).isNull().cast(\"int\")).alias(c) for c in df.columns]\n"
   ]
  },
  {
   "cell_type": "code",
   "execution_count": 6,
   "metadata": {},
   "outputs": [
    {
     "name": "stderr",
     "output_type": "stream",
     "text": [
      "[Stage 3:==================================================>      (15 + 2) / 17]\r"
     ]
    },
    {
     "name": "stdout",
     "output_type": "stream",
     "text": [
      "+-----------------+--------------------+--------------------+----------------+-----------------+---------------+----------------+------------+------------+----------+---------+-------------------+-----+---+---------+--------------------+-----------+----+----------+-------------------+-----------------+------------------+----------------+--------------+\n",
      "|hvfhs_license_num|dispatching_base_num|originating_base_num|request_datetime|on_scene_datetime|pickup_datetime|dropoff_datetime|PULocationID|DOLocationID|trip_miles|trip_time|base_passenger_fare|tolls|bcf|sales_tax|congestion_surcharge|airport_fee|tips|driver_pay|shared_request_flag|shared_match_flag|access_a_ride_flag|wav_request_flag|wav_match_flag|\n",
      "+-----------------+--------------------+--------------------+----------------+-----------------+---------------+----------------+------------+------------+----------+---------+-------------------+-----+---+---------+--------------------+-----------+----+----------+-------------------+-----------------+------------------+----------------+--------------+\n",
      "|                0|                   0|             3552497|               0|          3552499|              0|               0|           0|           0|         0|        0|                  0|    0|  0|        0|                   0|   13392904|   0|         0|                  0|                0|                 0|               0|             0|\n",
      "+-----------------+--------------------+--------------------+----------------+-----------------+---------------+----------------+------------+------------+----------+---------+-------------------+-----+---+---------+--------------------+-----------+----+----------+-------------------+-----------------+------------------+----------------+--------------+\n",
      "\n"
     ]
    },
    {
     "name": "stderr",
     "output_type": "stream",
     "text": [
      "                                                                                \r"
     ]
    }
   ],
   "source": [
    "df.agg(*null_counts).show()"
   ]
  },
  {
   "cell_type": "code",
   "execution_count": 7,
   "metadata": {},
   "outputs": [],
   "source": [
    "df.createOrReplaceTempView('mobility_dataset')"
   ]
  },
  {
   "cell_type": "code",
   "execution_count": 8,
   "metadata": {},
   "outputs": [
    {
     "name": "stdout",
     "output_type": "stream",
     "text": [
      "+-----------------------------+\n",
      "|split(pickup_datetime,  , -1)|\n",
      "+-----------------------------+\n",
      "|         [2020-03-01, 00:0...|\n",
      "|         [2020-03-01, 00:2...|\n",
      "|         [2020-03-01, 00:0...|\n",
      "|         [2020-03-01, 00:1...|\n",
      "|         [2020-03-01, 00:4...|\n",
      "|         [2020-03-01, 00:1...|\n",
      "|         [2020-03-01, 00:0...|\n",
      "|         [2020-03-01, 00:4...|\n",
      "|         [2020-03-01, 00:5...|\n",
      "|         [2020-03-01, 00:1...|\n",
      "|         [2020-03-01, 00:2...|\n",
      "|         [2020-03-01, 00:4...|\n",
      "|         [2020-03-01, 00:1...|\n",
      "|         [2020-03-01, 00:2...|\n",
      "|         [2020-03-01, 00:4...|\n",
      "|         [2020-03-01, 00:5...|\n",
      "|         [2020-03-01, 00:5...|\n",
      "|         [2020-03-01, 00:1...|\n",
      "|         [2020-03-01, 00:3...|\n",
      "|         [2020-03-01, 00:2...|\n",
      "+-----------------------------+\n",
      "only showing top 20 rows\n",
      "\n"
     ]
    }
   ],
   "source": [
    "ss.sql(\"select split(pickup_datetime, ' ') \\\n",
    "        from mobility_dataset\").show()"
   ]
  },
  {
   "cell_type": "code",
   "execution_count": 9,
   "metadata": {},
   "outputs": [
    {
     "name": "stdout",
     "output_type": "stream",
     "text": [
      "+------------+\n",
      "|splited_date|\n",
      "+------------+\n",
      "|  2020-03-01|\n",
      "|  2020-03-01|\n",
      "|  2020-03-01|\n",
      "|  2020-03-01|\n",
      "|  2020-03-01|\n",
      "|  2020-03-01|\n",
      "|  2020-03-01|\n",
      "|  2020-03-01|\n",
      "|  2020-03-01|\n",
      "|  2020-03-01|\n",
      "|  2020-03-01|\n",
      "|  2020-03-01|\n",
      "|  2020-03-01|\n",
      "|  2020-03-01|\n",
      "|  2020-03-01|\n",
      "|  2020-03-01|\n",
      "|  2020-03-01|\n",
      "|  2020-03-01|\n",
      "|  2020-03-01|\n",
      "|  2020-03-01|\n",
      "+------------+\n",
      "only showing top 20 rows\n",
      "\n"
     ]
    }
   ],
   "source": [
    "ss.sql(\"select split(pickup_datetime, ' ')[0] as splited_date\\\n",
    "       from mobility_dataset\").show()"
   ]
  },
  {
   "cell_type": "code",
   "execution_count": 10,
   "metadata": {},
   "outputs": [
    {
     "name": "stderr",
     "output_type": "stream",
     "text": [
      "[Stage 8:===========================================>             (13 + 4) / 17]\r"
     ]
    },
    {
     "name": "stdout",
     "output_type": "stream",
     "text": [
      "+--------+\n",
      "|count(1)|\n",
      "+--------+\n",
      "|  648990|\n",
      "|  784260|\n",
      "|  697880|\n",
      "|  707879|\n",
      "|  731165|\n",
      "|  872012|\n",
      "|  886071|\n",
      "|  731222|\n",
      "|  628940|\n",
      "|  626474|\n",
      "|  628601|\n",
      "|  643257|\n",
      "|  660914|\n",
      "|  569397|\n",
      "|  391518|\n",
      "|  448125|\n",
      "|  252773|\n",
      "|  312298|\n",
      "|  269233|\n",
      "|  261900|\n",
      "+--------+\n",
      "only showing top 20 rows\n",
      "\n"
     ]
    },
    {
     "name": "stderr",
     "output_type": "stream",
     "text": [
      "                                                                                \r"
     ]
    }
   ],
   "source": [
    "ss.sql(\"select count(*)\\\n",
    "       from(select split(pickup_datetime, ' ')[0] as splited_date\\\n",
    "            from mobility_dataset)\\\n",
    "       group by splited_date\").show()"
   ]
  },
  {
   "cell_type": "code",
   "execution_count": 11,
   "metadata": {},
   "outputs": [
    {
     "name": "stderr",
     "output_type": "stream",
     "text": [
      "                                                                                \r"
     ]
    },
    {
     "name": "stdout",
     "output_type": "stream",
     "text": [
      "+-----------+----------+\n",
      "|pickup_date|trip_count|\n",
      "+-----------+----------+\n",
      "| 2020-03-01|    784260|\n",
      "| 2020-03-02|    648990|\n",
      "| 2020-03-03|    697880|\n",
      "| 2020-03-04|    707879|\n",
      "| 2020-03-05|    731165|\n",
      "| 2020-03-06|    872012|\n",
      "| 2020-03-07|    886071|\n",
      "| 2020-03-08|    731222|\n",
      "| 2020-03-09|    628940|\n",
      "| 2020-03-10|    626474|\n",
      "| 2020-03-11|    628601|\n",
      "| 2020-03-12|    643257|\n",
      "| 2020-03-13|    660914|\n",
      "| 2020-03-14|    569397|\n",
      "| 2020-03-15|    448125|\n",
      "| 2020-03-16|    391518|\n",
      "| 2020-03-17|    312298|\n",
      "| 2020-03-18|    269233|\n",
      "| 2020-03-19|    252773|\n",
      "| 2020-03-20|    261900|\n",
      "+-----------+----------+\n",
      "only showing top 20 rows\n",
      "\n"
     ]
    }
   ],
   "source": [
    "ss.sql(\"select pickup_datetime as pickup_date, count(*) as trip_count\\\n",
    "       from (select split(pickup_datetime, ' ')[0] as pickup_datetime \\\n",
    "       from mobility_dataset)\\\n",
    "       group by pickup_datetime\\\n",
    "       order by pickup_datetime asc\").show()"
   ]
  },
  {
   "cell_type": "code",
   "execution_count": 12,
   "metadata": {},
   "outputs": [],
   "source": [
    "dir = '/home/owen/workspace/spark_warehouse/look_up_zone/*'\n",
    "\n",
    "\n",
    "df2 = ss.read.csv(f\"file:///{dir}\", inferSchema = True, header = True)"
   ]
  },
  {
   "cell_type": "code",
   "execution_count": 13,
   "metadata": {},
   "outputs": [
    {
     "name": "stdout",
     "output_type": "stream",
     "text": [
      "+----------+-------------+--------------------+------------+\n",
      "|LocationID|      Borough|                Zone|service_zone|\n",
      "+----------+-------------+--------------------+------------+\n",
      "|         1|          EWR|      Newark Airport|         EWR|\n",
      "|         2|       Queens|         Jamaica Bay|   Boro Zone|\n",
      "|         3|        Bronx|Allerton/Pelham G...|   Boro Zone|\n",
      "|         4|    Manhattan|       Alphabet City| Yellow Zone|\n",
      "|         5|Staten Island|       Arden Heights|   Boro Zone|\n",
      "|         6|Staten Island|Arrochar/Fort Wad...|   Boro Zone|\n",
      "|         7|       Queens|             Astoria|   Boro Zone|\n",
      "|         8|       Queens|        Astoria Park|   Boro Zone|\n",
      "|         9|       Queens|          Auburndale|   Boro Zone|\n",
      "|        10|       Queens|        Baisley Park|   Boro Zone|\n",
      "|        11|     Brooklyn|          Bath Beach|   Boro Zone|\n",
      "|        12|    Manhattan|        Battery Park| Yellow Zone|\n",
      "|        13|    Manhattan|   Battery Park City| Yellow Zone|\n",
      "|        14|     Brooklyn|           Bay Ridge|   Boro Zone|\n",
      "|        15|       Queens|Bay Terrace/Fort ...|   Boro Zone|\n",
      "|        16|       Queens|             Bayside|   Boro Zone|\n",
      "|        17|     Brooklyn|             Bedford|   Boro Zone|\n",
      "|        18|        Bronx|        Bedford Park|   Boro Zone|\n",
      "|        19|       Queens|           Bellerose|   Boro Zone|\n",
      "|        20|        Bronx|             Belmont|   Boro Zone|\n",
      "+----------+-------------+--------------------+------------+\n",
      "only showing top 20 rows\n",
      "\n"
     ]
    }
   ],
   "source": [
    "df2.show()"
   ]
  },
  {
   "cell_type": "code",
   "execution_count": 14,
   "metadata": {},
   "outputs": [],
   "source": [
    "df2.createOrReplaceTempView('region_dataset')"
   ]
  },
  {
   "cell_type": "code",
   "execution_count": 15,
   "metadata": {},
   "outputs": [
    {
     "name": "stdout",
     "output_type": "stream",
     "text": [
      "+---------+\n",
      "|  Borough|\n",
      "+---------+\n",
      "|    Bronx|\n",
      "|    Bronx|\n",
      "|Manhattan|\n",
      "|Manhattan|\n",
      "| Brooklyn|\n",
      "+---------+\n",
      "only showing top 5 rows\n",
      "\n"
     ]
    }
   ],
   "source": [
    "ss.sql(\"select region_dataset.Borough from mobility_dataset \\\n",
    "        join region_dataset on mobility_dataset.PULocationID = region_dataset.LocationID\").show(5)"
   ]
  },
  {
   "cell_type": "code",
   "execution_count": 20,
   "metadata": {},
   "outputs": [],
   "source": [
    "# 승차\n",
    "\n",
    "region_count = ss.sql('select borough, count(*) as trip_count\\\n",
    "                       from (select region_dataset.Borough as borough\\\n",
    "                       from mobility_dataset \\\n",
    "                       join region_dataset on mobility_dataset.PULocationID = region_dataset.LocationID)\\\n",
    "                       group by borough\\\n",
    "                       order by trip_count desc')"
   ]
  },
  {
   "cell_type": "code",
   "execution_count": 52,
   "metadata": {},
   "outputs": [],
   "source": [
    "pd_region_count = region_count.toPandas()"
   ]
  },
  {
   "cell_type": "code",
   "execution_count": 60,
   "metadata": {},
   "outputs": [
    {
     "name": "stderr",
     "output_type": "stream",
     "text": [
      "/tmp/ipykernel_4618/1393464113.py:8: UserWarning: FixedFormatter should only be used together with FixedLocator\n",
      "  ax.set_xticklabels(pd_region_count['borough'], rotation = 0)\n"
     ]
    },
    {
     "data": {
      "image/png": "[encoded data removed]",
      "text/plain": [
       "<Figure size 1600x600 with 1 Axes>"
      ]
     },
     "metadata": {},
     "output_type": "display_data"
    }
   ],
   "source": [
    "fig, ax = plt.subplots(figsize=(16, 6))\n",
    "colors = ['royalblue', 'green', 'red', 'purple', 'orange']\n",
    "ax.bar(pd_region_count['borough'], pd_region_count['trip_count'], color = colors)\n",
    "\n",
    "for i, v in enumerate(pd_region_count['trip_count']):\n",
    "    ax.text(i, v, str(v), ha = 'center', va = 'bottom')\n",
    "\n",
    "ax.set_xticklabels(pd_region_count['borough'], rotation = 0)\n",
    "\n",
    "plt.show()"
   ]
  },
  {
   "cell_type": "code",
   "execution_count": 61,
   "metadata": {},
   "outputs": [],
   "source": [
    "# 하차\n",
    "\n",
    "drop = ss.sql('select borough, count(*) as trip_count\\\n",
    "               from (select region_dataset.Borough as borough\\\n",
    "               from mobility_dataset \\\n",
    "               join region_dataset on mobility_dataset.DOLocationID = region_dataset.LocationID)\\\n",
    "               group by borough\\\n",
    "               order by trip_count desc')"
   ]
  },
  {
   "cell_type": "code",
   "execution_count": 62,
   "metadata": {},
   "outputs": [
    {
     "name": "stderr",
     "output_type": "stream",
     "text": [
      "[Stage 66:==========================================>             (13 + 4) / 17]\r"
     ]
    },
    {
     "name": "stdout",
     "output_type": "stream",
     "text": [
      "+-------------+----------+\n",
      "|      borough|trip_count|\n",
      "+-------------+----------+\n",
      "|    Manhattan|   4553783|\n",
      "|     Brooklyn|   3696684|\n",
      "|       Queens|   2468416|\n",
      "|        Bronx|   2043492|\n",
      "|      Unknown|    387760|\n",
      "|Staten Island|    177727|\n",
      "|          EWR|     65066|\n",
      "+-------------+----------+\n",
      "\n"
     ]
    },
    {
     "name": "stderr",
     "output_type": "stream",
     "text": [
      "                                                                                \r"
     ]
    }
   ],
   "source": [
    "drop.show(10)"
   ]
  },
  {
   "cell_type": "code",
   "execution_count": 63,
   "metadata": {},
   "outputs": [
    {
     "name": "stderr",
     "output_type": "stream",
     "text": [
      "                                                                                \r"
     ]
    }
   ],
   "source": [
    "pd_region_drop = drop.toPandas()"
   ]
  },
  {
   "cell_type": "code",
   "execution_count": 64,
   "metadata": {},
   "outputs": [
    {
     "name": "stderr",
     "output_type": "stream",
     "text": [
      "/tmp/ipykernel_4618/2719424374.py:8: UserWarning: FixedFormatter should only be used together with FixedLocator\n",
      "  ax.set_xticklabels(pd_region_drop['borough'], rotation = 0)\n"
     ]
    },
    {
     "data": {
      "image/png": "[encoded data removed]",
      "text/plain": [
       "<Figure size 1600x600 with 1 Axes>"
      ]
     },
     "metadata": {},
     "output_type": "display_data"
    }
   ],
   "source": [
    "fig, ax = plt.subplots(figsize=(16, 6))\n",
    "colors = ['royalblue', 'green', 'red', 'purple', 'orange']\n",
    "ax.bar(pd_region_drop['borough'], pd_region_drop['trip_count'], color = colors)\n",
    "\n",
    "for i, v in enumerate(pd_region_drop['trip_count']):\n",
    "    ax.text(i, v, str(v), ha = 'center', va = 'bottom')\n",
    "\n",
    "ax.set_xticklabels(pd_region_drop['borough'], rotation = 0)\n",
    "\n",
    "plt.show()"
   ]
  },
  {
   "cell_type": "code",
   "execution_count": 65,
   "metadata": {},
   "outputs": [],
   "source": [
    "dir2 = '/home/owen/workspace/spark_warehouse/data-engineering/01-spark/taxi_1~7/*'\n",
    "\n",
    "txdf = ss.read.parquet(f\"file:///{dir2}\", inferSchema = True, header = True)"
   ]
  },
  {
   "cell_type": "code",
   "execution_count": 66,
   "metadata": {},
   "outputs": [
    {
     "name": "stdout",
     "output_type": "stream",
     "text": [
      "root\n",
      " |-- VendorID: long (nullable = true)\n",
      " |-- tpep_pickup_datetime: timestamp (nullable = true)\n",
      " |-- tpep_dropoff_datetime: timestamp (nullable = true)\n",
      " |-- passenger_count: double (nullable = true)\n",
      " |-- trip_distance: double (nullable = true)\n",
      " |-- RatecodeID: double (nullable = true)\n",
      " |-- store_and_fwd_flag: string (nullable = true)\n",
      " |-- PULocationID: long (nullable = true)\n",
      " |-- DOLocationID: long (nullable = true)\n",
      " |-- payment_type: long (nullable = true)\n",
      " |-- fare_amount: double (nullable = true)\n",
      " |-- extra: double (nullable = true)\n",
      " |-- mta_tax: double (nullable = true)\n",
      " |-- tip_amount: double (nullable = true)\n",
      " |-- tolls_amount: double (nullable = true)\n",
      " |-- improvement_surcharge: double (nullable = true)\n",
      " |-- total_amount: double (nullable = true)\n",
      " |-- congestion_surcharge: double (nullable = true)\n",
      " |-- airport_fee: double (nullable = true)\n",
      "\n",
      "root\n",
      " |-- LocationID: integer (nullable = true)\n",
      " |-- Borough: string (nullable = true)\n",
      " |-- Zone: string (nullable = true)\n",
      " |-- service_zone: string (nullable = true)\n",
      "\n"
     ]
    }
   ],
   "source": [
    "txdf.printSchema()\n",
    "\n",
    "df2.printSchema()"
   ]
  },
  {
   "cell_type": "code",
   "execution_count": 67,
   "metadata": {},
   "outputs": [
    {
     "name": "stdout",
     "output_type": "stream",
     "text": [
      "+----------+-------------+--------------------+------------+\n",
      "|LocationID|      Borough|                Zone|service_zone|\n",
      "+----------+-------------+--------------------+------------+\n",
      "|         1|          EWR|      Newark Airport|         EWR|\n",
      "|         2|       Queens|         Jamaica Bay|   Boro Zone|\n",
      "|         3|        Bronx|Allerton/Pelham G...|   Boro Zone|\n",
      "|         4|    Manhattan|       Alphabet City| Yellow Zone|\n",
      "|         5|Staten Island|       Arden Heights|   Boro Zone|\n",
      "+----------+-------------+--------------------+------------+\n",
      "only showing top 5 rows\n",
      "\n"
     ]
    }
   ],
   "source": [
    "df2.show(5)"
   ]
  },
  {
   "cell_type": "code",
   "execution_count": 68,
   "metadata": {},
   "outputs": [
    {
     "name": "stdout",
     "output_type": "stream",
     "text": [
      "+--------+--------------------+---------------------+---------------+-------------+----------+------------------+------------+------------+------------+-----------+-----+-------+----------+------------+---------------------+------------+--------------------+-----------+\n",
      "|VendorID|tpep_pickup_datetime|tpep_dropoff_datetime|passenger_count|trip_distance|RatecodeID|store_and_fwd_flag|PULocationID|DOLocationID|payment_type|fare_amount|extra|mta_tax|tip_amount|tolls_amount|improvement_surcharge|total_amount|congestion_surcharge|airport_fee|\n",
      "+--------+--------------------+---------------------+---------------+-------------+----------+------------------+------------+------------+------------+-----------+-----+-------+----------+------------+---------------------+------------+--------------------+-----------+\n",
      "|       2| 2021-03-01 09:22:02|  2021-03-01 09:23:22|            1.0|          0.0|       1.0|                 N|         264|         264|           2|        3.0|  0.5|    0.5|       0.0|         0.0|                  0.3|         4.3|                 0.0|       null|\n",
      "|       2| 2021-03-01 09:24:48|  2021-03-01 09:24:56|            1.0|          0.0|       1.0|                 N|         152|         152|           2|        2.5|  0.5|    0.5|       0.0|         0.0|                  0.3|         3.8|                 0.0|       null|\n",
      "|       2| 2021-03-01 09:25:17|  2021-03-01 09:31:01|            1.0|          0.0|       1.0|                 N|         152|         152|           2|        3.5|  0.5|    0.5|       0.0|         0.0|                  0.3|         4.8|                 0.0|       null|\n",
      "|       1| 2021-03-01 09:07:40|  2021-03-01 09:31:23|            0.0|         16.5|       4.0|                 N|         138|         265|           1|       51.0|  0.5|    0.5|     11.65|        6.12|                  0.3|       70.07|                 0.0|       null|\n",
      "|       2| 2021-03-01 09:02:13|  2021-03-01 09:06:01|            1.0|         1.13|       1.0|                 N|          68|         264|           1|        5.5|  0.5|    0.5|      1.86|         0.0|                  0.3|       11.16|                 2.5|       null|\n",
      "+--------+--------------------+---------------------+---------------+-------------+----------+------------------+------------+------------+------------+-----------+-----+-------+----------+------------+---------------------+------------+--------------------+-----------+\n",
      "only showing top 5 rows\n",
      "\n"
     ]
    },
    {
     "name": "stderr",
     "output_type": "stream",
     "text": [
      "                                                                                \r"
     ]
    }
   ],
   "source": [
    "txdf.show(5)"
   ]
  },
  {
   "cell_type": "code",
   "execution_count": 69,
   "metadata": {},
   "outputs": [],
   "source": [
    "txdf.createOrReplaceTempView('taxi')"
   ]
  },
  {
   "cell_type": "code",
   "execution_count": 70,
   "metadata": {},
   "outputs": [
    {
     "name": "stdout",
     "output_type": "stream",
     "text": [
      "+--------+--------------------+---------------------+---------------+-------------+----------+------------------+------------+------------+------------+-----------+-----+-------+----------+------------+---------------------+------------+--------------------+-----------+----------+---------+-----------------+------------+\n",
      "|VendorID|tpep_pickup_datetime|tpep_dropoff_datetime|passenger_count|trip_distance|RatecodeID|store_and_fwd_flag|PULocationID|DOLocationID|payment_type|fare_amount|extra|mta_tax|tip_amount|tolls_amount|improvement_surcharge|total_amount|congestion_surcharge|airport_fee|LocationID|  Borough|             Zone|service_zone|\n",
      "+--------+--------------------+---------------------+---------------+-------------+----------+------------------+------------+------------+------------+-----------+-----+-------+----------+------------+---------------------+------------+--------------------+-----------+----------+---------+-----------------+------------+\n",
      "|       2| 2021-03-01 09:22:02|  2021-03-01 09:23:22|            1.0|          0.0|       1.0|                 N|         264|         264|           2|        3.0|  0.5|    0.5|       0.0|         0.0|                  0.3|         4.3|                 0.0|       null|       264|  Unknown|               NV|         N/A|\n",
      "|       2| 2021-03-01 09:24:48|  2021-03-01 09:24:56|            1.0|          0.0|       1.0|                 N|         152|         152|           2|        2.5|  0.5|    0.5|       0.0|         0.0|                  0.3|         3.8|                 0.0|       null|       152|Manhattan|   Manhattanville|   Boro Zone|\n",
      "|       2| 2021-03-01 09:25:17|  2021-03-01 09:31:01|            1.0|          0.0|       1.0|                 N|         152|         152|           2|        3.5|  0.5|    0.5|       0.0|         0.0|                  0.3|         4.8|                 0.0|       null|       152|Manhattan|   Manhattanville|   Boro Zone|\n",
      "|       1| 2021-03-01 09:07:40|  2021-03-01 09:31:23|            0.0|         16.5|       4.0|                 N|         138|         265|           1|       51.0|  0.5|    0.5|     11.65|        6.12|                  0.3|       70.07|                 0.0|       null|       138|   Queens|LaGuardia Airport|    Airports|\n",
      "|       2| 2021-03-01 09:02:13|  2021-03-01 09:06:01|            1.0|         1.13|       1.0|                 N|          68|         264|           1|        5.5|  0.5|    0.5|      1.86|         0.0|                  0.3|       11.16|                 2.5|       null|        68|Manhattan|     East Chelsea| Yellow Zone|\n",
      "+--------+--------------------+---------------------+---------------+-------------+----------+------------------+------------+------------+------------+-----------+-----+-------+----------+------------+---------------------+------------+--------------------+-----------+----------+---------+-----------------+------------+\n",
      "only showing top 5 rows\n",
      "\n"
     ]
    }
   ],
   "source": [
    "qry = \"\"\"\n",
    "select *\n",
    "from taxi as t\n",
    "left join region_dataset as pz\n",
    "on t.PULocationID = pz.LocationID\n",
    "\"\"\"\n",
    "\n",
    "ss.sql(qry).show(5)"
   ]
  },
  {
   "cell_type": "code",
   "execution_count": 71,
   "metadata": {},
   "outputs": [
    {
     "name": "stdout",
     "output_type": "stream",
     "text": [
      "23/10/17 13:56:05 WARN package: Truncated the string representation of a plan since it was too large. This behavior can be adjusted by setting 'spark.sql.debug.maxToStringFields'.\n",
      "+--------+--------------------+---------------------+---------------+-------------+----------+------------------+------------+------------+------------+-----------+-----+-------+----------+------------+---------------------+------------+--------------------+-----------+----------+---------+-----------------+------------+----------+---------+--------------+------------+\n",
      "|VendorID|tpep_pickup_datetime|tpep_dropoff_datetime|passenger_count|trip_distance|RatecodeID|store_and_fwd_flag|PULocationID|DOLocationID|payment_type|fare_amount|extra|mta_tax|tip_amount|tolls_amount|improvement_surcharge|total_amount|congestion_surcharge|airport_fee|LocationID|  Borough|             Zone|service_zone|LocationID|  Borough|          Zone|service_zone|\n",
      "+--------+--------------------+---------------------+---------------+-------------+----------+------------------+------------+------------+------------+-----------+-----+-------+----------+------------+---------------------+------------+--------------------+-----------+----------+---------+-----------------+------------+----------+---------+--------------+------------+\n",
      "|       2| 2021-03-01 09:22:02|  2021-03-01 09:23:22|            1.0|          0.0|       1.0|                 N|         264|         264|           2|        3.0|  0.5|    0.5|       0.0|         0.0|                  0.3|         4.3|                 0.0|       null|       264|  Unknown|               NV|         N/A|       264|  Unknown|            NV|         N/A|\n",
      "|       2| 2021-03-01 09:24:48|  2021-03-01 09:24:56|            1.0|          0.0|       1.0|                 N|         152|         152|           2|        2.5|  0.5|    0.5|       0.0|         0.0|                  0.3|         3.8|                 0.0|       null|       152|Manhattan|   Manhattanville|   Boro Zone|       152|Manhattan|Manhattanville|   Boro Zone|\n",
      "|       2| 2021-03-01 09:25:17|  2021-03-01 09:31:01|            1.0|          0.0|       1.0|                 N|         152|         152|           2|        3.5|  0.5|    0.5|       0.0|         0.0|                  0.3|         4.8|                 0.0|       null|       152|Manhattan|   Manhattanville|   Boro Zone|       152|Manhattan|Manhattanville|   Boro Zone|\n",
      "|       1| 2021-03-01 09:07:40|  2021-03-01 09:31:23|            0.0|         16.5|       4.0|                 N|         138|         265|           1|       51.0|  0.5|    0.5|     11.65|        6.12|                  0.3|       70.07|                 0.0|       null|       138|   Queens|LaGuardia Airport|    Airports|       265|  Unknown|            NA|         N/A|\n",
      "|       2| 2021-03-01 09:02:13|  2021-03-01 09:06:01|            1.0|         1.13|       1.0|                 N|          68|         264|           1|        5.5|  0.5|    0.5|      1.86|         0.0|                  0.3|       11.16|                 2.5|       null|        68|Manhattan|     East Chelsea| Yellow Zone|       264|  Unknown|            NV|         N/A|\n",
      "+--------+--------------------+---------------------+---------------+-------------+----------+------------------+------------+------------+------------+-----------+-----+-------+----------+------------+---------------------+------------+--------------------+-----------+----------+---------+-----------------+------------+----------+---------+--------------+------------+\n",
      "only showing top 5 rows\n",
      "\n"
     ]
    }
   ],
   "source": [
    "query = \"\"\"\n",
    "select *\n",
    "from taxi as t\n",
    "left join region_dataset as pz\n",
    "on t.PULocationID = pz.LocationID\n",
    "left join region_dataset as dz\n",
    "on t.DOLocationID = dz.LocationID\n",
    "\"\"\"\n",
    "                  \n",
    "df3 = ss.sql(query)\n",
    "df3.show(5)"
   ]
  },
  {
   "cell_type": "code",
   "execution_count": 72,
   "metadata": {},
   "outputs": [
    {
     "name": "stdout",
     "output_type": "stream",
     "text": [
      "+---------+-----------+-----------+-----------------+------------+------------+--------------+-------------+-----------+---------------+--------------+------------+------------+------------+\n",
      "|vendor_id|pickup_date|pickup_time|      pickup_zone|dropoff_date|dropoff_time|  dropoff_zone|trip_distance|fare_amount|passenger_count|operating_time|tolls_amount|total_amount|payment_type|\n",
      "+---------+-----------+-----------+-----------------+------------+------------+--------------+-------------+-----------+---------------+--------------+------------+------------+------------+\n",
      "|        2| 2021-03-01|   09:22:02|               NV|  2021-03-01|    09:23:22|            NV|          0.0|        3.0|            1.0|        0:1:20|         0.0|         4.3|           2|\n",
      "|        2| 2021-03-01|   09:24:48|   Manhattanville|  2021-03-01|    09:24:56|Manhattanville|          0.0|        2.5|            1.0|         0:0:8|         0.0|         3.8|           2|\n",
      "|        2| 2021-03-01|   09:25:17|   Manhattanville|  2021-03-01|    09:31:01|Manhattanville|          0.0|        3.5|            1.0|        0:5:44|         0.0|         4.8|           2|\n",
      "|        1| 2021-03-01|   09:07:40|LaGuardia Airport|  2021-03-01|    09:31:23|            NA|         16.5|       51.0|            0.0|       0:23:43|        6.12|       70.07|           1|\n",
      "|        2| 2021-03-01|   09:02:13|     East Chelsea|  2021-03-01|    09:06:01|            NV|         1.13|        5.5|            1.0|        0:3:48|         0.0|       11.16|           1|\n",
      "+---------+-----------+-----------+-----------------+------------+------------+--------------+-------------+-----------+---------------+--------------+------------+------------+------------+\n",
      "only showing top 5 rows\n",
      "\n"
     ]
    }
   ],
   "source": [
    "query2 = \"\"\"\n",
    "select t.VendorID as vendor_id,\n",
    "       to_date(t.tpep_pickup_datetime) as pickup_date,\n",
    "       split(t.tpep_pickup_datetime, ' ')[1] as pickup_time,\n",
    "       pz.Zone as pickup_zone,\n",
    "       to_date(t.tpep_dropoff_datetime) as dropoff_date,\n",
    "       split(t.tpep_dropoff_datetime, ' ')[1] as dropoff_time,\n",
    "       dz.Zone as dropoff_zone,\n",
    "       t.trip_distance as trip_distance,\n",
    "       t.fare_amount as fare_amount,\n",
    "       t.passenger_count as passenger_count,\n",
    "       concat(cast((unix_timestamp(t.tpep_dropoff_datetime) - unix_timestamp(t.tpep_pickup_datetime))/3600 as int), ':',\n",
    "              cast((unix_timestamp(t.tpep_dropoff_datetime) - unix_timestamp(t.tpep_pickup_datetime))/60 as int), ':',\n",
    "             (unix_timestamp(t.tpep_dropoff_datetime) - unix_timestamp(t.tpep_pickup_datetime))%60) as operating_time,   \n",
    "       t.tolls_amount as tolls_amount,\n",
    "       t.total_amount as total_amount,\n",
    "       t.payment_type as payment_type\n",
    "\n",
    "from taxi as t\n",
    "left join region_dataset as pz\n",
    "on t.PULocationID = pz.LocationID\n",
    "left join region_dataset as dz\n",
    "on t.DOLocationID = dz.LocationID\n",
    "\"\"\"\n",
    "\n",
    "new_df = ss.sql(query2)\n",
    "new_df.show(5)"
   ]
  },
  {
   "cell_type": "code",
   "execution_count": 73,
   "metadata": {},
   "outputs": [],
   "source": [
    "new_df.createOrReplaceTempView('new')"
   ]
  },
  {
   "cell_type": "code",
   "execution_count": 74,
   "metadata": {},
   "outputs": [
    {
     "name": "stdout",
     "output_type": "stream",
     "text": [
      "+-----------+-----------+\n",
      "|pickup_date|pickup_time|\n",
      "+-----------+-----------+\n",
      "| 2009-01-01|   09:09:10|\n",
      "| 2009-01-01|   08:18:19|\n",
      "| 2009-01-01|   09:02:50|\n",
      "| 2009-01-01|   09:39:56|\n",
      "| 2009-01-01|   09:39:56|\n",
      "| 2009-01-01|   09:04:50|\n",
      "| 2009-01-01|   09:22:28|\n",
      "| 2009-01-01|   10:07:48|\n",
      "| 2009-01-01|   09:51:50|\n",
      "| 2009-01-01|   08:03:14|\n",
      "| 2009-01-01|   08:14:57|\n",
      "| 2009-01-01|   12:21:35|\n",
      "| 2009-01-02|   01:35:39|\n",
      "| 2009-01-01|   20:59:10|\n",
      "| 2009-01-01|   21:16:51|\n",
      "| 2009-01-01|   21:34:19|\n",
      "| 2009-01-01|   08:09:27|\n",
      "| 2009-01-01|   08:22:53|\n",
      "| 2009-01-01|   09:02:30|\n",
      "| 2009-01-01|   09:33:07|\n",
      "+-----------+-----------+\n",
      "only showing top 20 rows\n",
      "\n"
     ]
    }
   ],
   "source": [
    "ss.sql(\"select pickup_date, pickup_time \\\n",
    "        from new \\\n",
    "        where pickup_date < '2020-12-31'\").show()"
   ]
  },
  {
   "cell_type": "code",
   "execution_count": 75,
   "metadata": {},
   "outputs": [
    {
     "name": "stdout",
     "output_type": "stream",
     "text": [
      "+-------+------------------+\n",
      "|summary|      total_amount|\n",
      "+-------+------------------+\n",
      "|  count|          15000936|\n",
      "|   mean| 18.75540051097825|\n",
      "| stddev|145.74310219085987|\n",
      "|    min|            -647.8|\n",
      "|    max|          398469.2|\n",
      "+-------+------------------+\n",
      "\n"
     ]
    }
   ],
   "source": [
    "new_df.select('total_amount').describe().show()"
   ]
  },
  {
   "cell_type": "code",
   "execution_count": 76,
   "metadata": {},
   "outputs": [
    {
     "name": "stdout",
     "output_type": "stream",
     "text": [
      "+-------+-----------------+\n",
      "|summary|    trip_distance|\n",
      "+-------+-----------------+\n",
      "|  count|         15000936|\n",
      "|   mean|6.628556730059907|\n",
      "| stddev| 671.724064548099|\n",
      "|    min|              0.0|\n",
      "|    max|        332541.19|\n",
      "+-------+-----------------+\n",
      "\n"
     ]
    }
   ],
   "source": [
    "new_df.select('trip_distance').describe().show()"
   ]
  },
  {
   "cell_type": "code",
   "execution_count": 77,
   "metadata": {},
   "outputs": [
    {
     "name": "stderr",
     "output_type": "stream",
     "text": [
      "[Stage 99:==============================================>         (10 + 2) / 12]\r"
     ]
    },
    {
     "name": "stdout",
     "output_type": "stream",
     "text": [
      "+-------+------------------+\n",
      "|summary|   passenger_count|\n",
      "+-------+------------------+\n",
      "|  count|          14166908|\n",
      "|   mean|1.4253582362502812|\n",
      "| stddev|1.0443336003189163|\n",
      "|    min|               0.0|\n",
      "|    max|               9.0|\n",
      "+-------+------------------+\n",
      "\n"
     ]
    },
    {
     "name": "stderr",
     "output_type": "stream",
     "text": [
      "                                                                                \r"
     ]
    }
   ],
   "source": [
    "new_df.select('passenger_count').describe().show()"
   ]
  },
  {
   "cell_type": "code",
   "execution_count": 78,
   "metadata": {},
   "outputs": [
    {
     "name": "stderr",
     "output_type": "stream",
     "text": [
      "[Stage 103:==========================================>             (9 + 3) / 12]\r"
     ]
    },
    {
     "name": "stdout",
     "output_type": "stream",
     "text": [
      "+-------------------+-------+\n",
      "|              month|  trips|\n",
      "+-------------------+-------+\n",
      "|2003-01-01 00:00:00|      2|\n",
      "|2004-04-01 00:00:00|      1|\n",
      "|2009-01-01 00:00:00|    137|\n",
      "|2020-12-01 00:00:00|      1|\n",
      "|2021-01-01 00:00:00|1355332|\n",
      "|2021-02-01 00:00:00|1368619|\n",
      "|2021-03-01 00:00:00|1910234|\n",
      "|2021-04-01 00:00:00|2156143|\n",
      "|2021-05-01 00:00:00|2522860|\n",
      "|2021-06-01 00:00:00|2813017|\n",
      "|2021-07-01 00:00:00|2825121|\n",
      "|2021-08-01 00:00:00|  49452|\n",
      "|2021-09-01 00:00:00|      3|\n",
      "|2021-10-01 00:00:00|      3|\n",
      "|2021-11-01 00:00:00|      5|\n",
      "|2021-12-01 00:00:00|      5|\n",
      "|2029-05-01 00:00:00|      1|\n",
      "+-------------------+-------+\n",
      "\n"
     ]
    },
    {
     "name": "stderr",
     "output_type": "stream",
     "text": [
      "                                                                                \r"
     ]
    }
   ],
   "source": [
    "fliter_query = \"\"\"\n",
    "select date_trunc('MM', n.pickup_date) as month, count(*) as trips\n",
    "from new as n\n",
    "group by month\n",
    "order by month;\n",
    "\"\"\"\n",
    "\n",
    "ss.sql(fliter_query).show()"
   ]
  },
  {
   "cell_type": "code",
   "execution_count": 79,
   "metadata": {},
   "outputs": [],
   "source": [
    "eda_df = ss.sql(\"\"\"\n",
    "                select *\n",
    "                from new as n\n",
    "                where (n.total_amount < 2000 and \\\n",
    "                n.trip_distance < 100 and \\\n",
    "                n.passenger_count <= 5 and \\\n",
    "                '2021-01-01' <= n.pickup_date and\\\n",
    "                n.pickup_date <= '2021-08-31') \\\n",
    "                \"\"\")\n",
    "  \n",
    "eda_df.createOrReplaceTempView('eda')"
   ]
  },
  {
   "cell_type": "code",
   "execution_count": 80,
   "metadata": {},
   "outputs": [
    {
     "name": "stderr",
     "output_type": "stream",
     "text": [
      "ERROR:root:KeyboardInterrupt while sending command.                (5 + 7) / 12]\n",
      "Traceback (most recent call last):\n",
      "  File \"/home/owen/anaconda3/envs/bigdata/lib/python3.8/site-packages/py4j/java_gateway.py\", line 1038, in send_command\n",
      "    response = connection.send_command(command)\n",
      "  File \"/home/owen/anaconda3/envs/bigdata/lib/python3.8/site-packages/py4j/clientserver.py\", line 511, in send_command\n",
      "    answer = smart_decode(self.stream.readline()[:-1])\n",
      "  File \"/home/owen/anaconda3/envs/bigdata/lib/python3.8/socket.py\", line 669, in readinto\n",
      "    return self._sock.recv_into(b)\n",
      "KeyboardInterrupt\n"
     ]
    },
    {
     "ename": "KeyboardInterrupt",
     "evalue": "",
     "output_type": "error",
     "traceback": [
      "\u001b[0;31m---------------------------------------------------------------------------\u001b[0m",
      "\u001b[0;31mKeyboardInterrupt\u001b[0m                         Traceback (most recent call last)",
      "\u001b[1;32m/home/owen/workspace/spark_warehouse/EDA_TLC_TRIP_DATA.ipynb 셀 39\u001b[0m line \u001b[0;36m1\n\u001b[0;32m----> <a href='vscode-notebook-cell:/home/owen/workspace/spark_warehouse/EDA_TLC_TRIP_DATA.ipynb#X44sZmlsZQ%3D%3D?line=0'>1</a>\u001b[0m eda_df\u001b[39m.\u001b[39;49mdescribe()\u001b[39m.\u001b[39mshow()\n",
      "File \u001b[0;32m~/anaconda3/envs/bigdata/lib/python3.8/site-packages/pyspark/sql/dataframe.py:1825\u001b[0m, in \u001b[0;36mDataFrame.describe\u001b[0;34m(self, *cols)\u001b[0m\n\u001b[1;32m   1823\u001b[0m \u001b[39mif\u001b[39;00m \u001b[39mlen\u001b[39m(cols) \u001b[39m==\u001b[39m \u001b[39m1\u001b[39m \u001b[39mand\u001b[39;00m \u001b[39misinstance\u001b[39m(cols[\u001b[39m0\u001b[39m], \u001b[39mlist\u001b[39m):\n\u001b[1;32m   1824\u001b[0m     cols \u001b[39m=\u001b[39m cols[\u001b[39m0\u001b[39m]  \u001b[39m# type: ignore[assignment]\u001b[39;00m\n\u001b[0;32m-> 1825\u001b[0m jdf \u001b[39m=\u001b[39m \u001b[39mself\u001b[39;49m\u001b[39m.\u001b[39;49m_jdf\u001b[39m.\u001b[39;49mdescribe(\u001b[39mself\u001b[39;49m\u001b[39m.\u001b[39;49m_jseq(cols))\n\u001b[1;32m   1826\u001b[0m \u001b[39mreturn\u001b[39;00m DataFrame(jdf, \u001b[39mself\u001b[39m\u001b[39m.\u001b[39msparkSession)\n",
      "File \u001b[0;32m~/anaconda3/envs/bigdata/lib/python3.8/site-packages/py4j/java_gateway.py:1320\u001b[0m, in \u001b[0;36mJavaMember.__call__\u001b[0;34m(self, *args)\u001b[0m\n\u001b[1;32m   1313\u001b[0m args_command, temp_args \u001b[39m=\u001b[39m \u001b[39mself\u001b[39m\u001b[39m.\u001b[39m_build_args(\u001b[39m*\u001b[39margs)\n\u001b[1;32m   1315\u001b[0m command \u001b[39m=\u001b[39m proto\u001b[39m.\u001b[39mCALL_COMMAND_NAME \u001b[39m+\u001b[39m\\\n\u001b[1;32m   1316\u001b[0m     \u001b[39mself\u001b[39m\u001b[39m.\u001b[39mcommand_header \u001b[39m+\u001b[39m\\\n\u001b[1;32m   1317\u001b[0m     args_command \u001b[39m+\u001b[39m\\\n\u001b[1;32m   1318\u001b[0m     proto\u001b[39m.\u001b[39mEND_COMMAND_PART\n\u001b[0;32m-> 1320\u001b[0m answer \u001b[39m=\u001b[39m \u001b[39mself\u001b[39;49m\u001b[39m.\u001b[39;49mgateway_client\u001b[39m.\u001b[39;49msend_command(command)\n\u001b[1;32m   1321\u001b[0m return_value \u001b[39m=\u001b[39m get_return_value(\n\u001b[1;32m   1322\u001b[0m     answer, \u001b[39mself\u001b[39m\u001b[39m.\u001b[39mgateway_client, \u001b[39mself\u001b[39m\u001b[39m.\u001b[39mtarget_id, \u001b[39mself\u001b[39m\u001b[39m.\u001b[39mname)\n\u001b[1;32m   1324\u001b[0m \u001b[39mfor\u001b[39;00m temp_arg \u001b[39min\u001b[39;00m temp_args:\n",
      "File \u001b[0;32m~/anaconda3/envs/bigdata/lib/python3.8/site-packages/py4j/java_gateway.py:1038\u001b[0m, in \u001b[0;36mGatewayClient.send_command\u001b[0;34m(self, command, retry, binary)\u001b[0m\n\u001b[1;32m   1036\u001b[0m connection \u001b[39m=\u001b[39m \u001b[39mself\u001b[39m\u001b[39m.\u001b[39m_get_connection()\n\u001b[1;32m   1037\u001b[0m \u001b[39mtry\u001b[39;00m:\n\u001b[0;32m-> 1038\u001b[0m     response \u001b[39m=\u001b[39m connection\u001b[39m.\u001b[39;49msend_command(command)\n\u001b[1;32m   1039\u001b[0m     \u001b[39mif\u001b[39;00m binary:\n\u001b[1;32m   1040\u001b[0m         \u001b[39mreturn\u001b[39;00m response, \u001b[39mself\u001b[39m\u001b[39m.\u001b[39m_create_connection_guard(connection)\n",
      "File \u001b[0;32m~/anaconda3/envs/bigdata/lib/python3.8/site-packages/py4j/clientserver.py:511\u001b[0m, in \u001b[0;36mClientServerConnection.send_command\u001b[0;34m(self, command)\u001b[0m\n\u001b[1;32m    509\u001b[0m \u001b[39mtry\u001b[39;00m:\n\u001b[1;32m    510\u001b[0m     \u001b[39mwhile\u001b[39;00m \u001b[39mTrue\u001b[39;00m:\n\u001b[0;32m--> 511\u001b[0m         answer \u001b[39m=\u001b[39m smart_decode(\u001b[39mself\u001b[39;49m\u001b[39m.\u001b[39;49mstream\u001b[39m.\u001b[39;49mreadline()[:\u001b[39m-\u001b[39m\u001b[39m1\u001b[39m])\n\u001b[1;32m    512\u001b[0m         logger\u001b[39m.\u001b[39mdebug(\u001b[39m\"\u001b[39m\u001b[39mAnswer received: \u001b[39m\u001b[39m{0}\u001b[39;00m\u001b[39m\"\u001b[39m\u001b[39m.\u001b[39mformat(answer))\n\u001b[1;32m    513\u001b[0m         \u001b[39m# Happens when a the other end is dead. There might be an empty\u001b[39;00m\n\u001b[1;32m    514\u001b[0m         \u001b[39m# answer before the socket raises an error.\u001b[39;00m\n",
      "File \u001b[0;32m~/anaconda3/envs/bigdata/lib/python3.8/socket.py:669\u001b[0m, in \u001b[0;36mSocketIO.readinto\u001b[0;34m(self, b)\u001b[0m\n\u001b[1;32m    667\u001b[0m \u001b[39mwhile\u001b[39;00m \u001b[39mTrue\u001b[39;00m:\n\u001b[1;32m    668\u001b[0m     \u001b[39mtry\u001b[39;00m:\n\u001b[0;32m--> 669\u001b[0m         \u001b[39mreturn\u001b[39;00m \u001b[39mself\u001b[39;49m\u001b[39m.\u001b[39;49m_sock\u001b[39m.\u001b[39;49mrecv_into(b)\n\u001b[1;32m    670\u001b[0m     \u001b[39mexcept\u001b[39;00m timeout:\n\u001b[1;32m    671\u001b[0m         \u001b[39mself\u001b[39m\u001b[39m.\u001b[39m_timeout_occurred \u001b[39m=\u001b[39m \u001b[39mTrue\u001b[39;00m\n",
      "\u001b[0;31mKeyboardInterrupt\u001b[0m: "
     ]
    },
    {
     "name": "stderr",
     "output_type": "stream",
     "text": [
      "[Stage 107:=======================>                                (5 + 7) / 12]\r"
     ]
    }
   ],
   "source": [
    "eda_df.describe().show()"
   ]
  },
  {
   "cell_type": "code",
   "execution_count": 81,
   "metadata": {},
   "outputs": [
    {
     "data": {
      "text/plain": [
       "DataFrame[pickup_date: date, trips: bigint]"
      ]
     },
     "execution_count": 81,
     "metadata": {},
     "output_type": "execute_result"
    }
   ],
   "source": [
    "query_daily_trip_count = \"\"\"\n",
    "select e.pickup_date, count(*) as trips\n",
    "from eda as e\n",
    "group by e.pickup_date\n",
    "\"\"\"\n",
    "\n",
    "ss.sql(query_daily_trip_count)"
   ]
  },
  {
   "cell_type": "code",
   "execution_count": 82,
   "metadata": {},
   "outputs": [
    {
     "name": "stderr",
     "output_type": "stream",
     "text": [
      "                                                                                \r"
     ]
    }
   ],
   "source": [
    "pd_daily_trip_count = ss.sql(query_daily_trip_count).toPandas()"
   ]
  },
  {
   "cell_type": "code",
   "execution_count": 83,
   "metadata": {},
   "outputs": [
    {
     "name": "stderr",
     "output_type": "stream",
     "text": [
      "[Stage 107:=======================>                                (5 + 7) / 12]\r"
     ]
    },
    {
     "data": {
      "text/html": [
       "<div>\n",
       "<style scoped>\n",
       "    .dataframe tbody tr th:only-of-type {\n",
       "        vertical-align: middle;\n",
       "    }\n",
       "\n",
       "    .dataframe tbody tr th {\n",
       "        vertical-align: top;\n",
       "    }\n",
       "\n",
       "    .dataframe thead th {\n",
       "        text-align: right;\n",
       "    }\n",
       "</style>\n",
       "<table border=\"1\" class=\"dataframe\">\n",
       "  <thead>\n",
       "    <tr style=\"text-align: right;\">\n",
       "      <th></th>\n",
       "      <th>pickup_date</th>\n",
       "      <th>trips</th>\n",
       "    </tr>\n",
       "  </thead>\n",
       "  <tbody>\n",
       "    <tr>\n",
       "      <th>0</th>\n",
       "      <td>2021-03-22</td>\n",
       "      <td>50324</td>\n",
       "    </tr>\n",
       "    <tr>\n",
       "      <th>1</th>\n",
       "      <td>2021-03-07</td>\n",
       "      <td>45891</td>\n",
       "    </tr>\n",
       "    <tr>\n",
       "      <th>2</th>\n",
       "      <td>2021-03-21</td>\n",
       "      <td>52985</td>\n",
       "    </tr>\n",
       "    <tr>\n",
       "      <th>3</th>\n",
       "      <td>2021-05-27</td>\n",
       "      <td>87713</td>\n",
       "    </tr>\n",
       "    <tr>\n",
       "      <th>4</th>\n",
       "      <td>2021-03-14</td>\n",
       "      <td>51163</td>\n",
       "    </tr>\n",
       "    <tr>\n",
       "      <th>...</th>\n",
       "      <td>...</td>\n",
       "      <td>...</td>\n",
       "    </tr>\n",
       "    <tr>\n",
       "      <th>211</th>\n",
       "      <td>2021-01-13</td>\n",
       "      <td>45447</td>\n",
       "    </tr>\n",
       "    <tr>\n",
       "      <th>212</th>\n",
       "      <td>2021-01-17</td>\n",
       "      <td>33767</td>\n",
       "    </tr>\n",
       "    <tr>\n",
       "      <th>213</th>\n",
       "      <td>2021-01-20</td>\n",
       "      <td>44718</td>\n",
       "    </tr>\n",
       "    <tr>\n",
       "      <th>214</th>\n",
       "      <td>2021-01-28</td>\n",
       "      <td>48994</td>\n",
       "    </tr>\n",
       "    <tr>\n",
       "      <th>215</th>\n",
       "      <td>2021-01-06</td>\n",
       "      <td>42775</td>\n",
       "    </tr>\n",
       "  </tbody>\n",
       "</table>\n",
       "<p>216 rows × 2 columns</p>\n",
       "</div>"
      ],
      "text/plain": [
       "    pickup_date  trips\n",
       "0    2021-03-22  50324\n",
       "1    2021-03-07  45891\n",
       "2    2021-03-21  52985\n",
       "3    2021-05-27  87713\n",
       "4    2021-03-14  51163\n",
       "..          ...    ...\n",
       "211  2021-01-13  45447\n",
       "212  2021-01-17  33767\n",
       "213  2021-01-20  44718\n",
       "214  2021-01-28  48994\n",
       "215  2021-01-06  42775\n",
       "\n",
       "[216 rows x 2 columns]"
      ]
     },
     "execution_count": 83,
     "metadata": {},
     "output_type": "execute_result"
    },
    {
     "name": "stderr",
     "output_type": "stream",
     "text": [
      "[Stage 107:================================>                       (7 + 5) / 12]\r"
     ]
    }
   ],
   "source": [
    "pd_daily_trip_count"
   ]
  },
  {
   "cell_type": "code",
   "execution_count": 84,
   "metadata": {},
   "outputs": [
    {
     "data": {
      "image/png": "[encoded data removed]",
      "text/plain": [
       "<Figure size 1600x600 with 1 Axes>"
      ]
     },
     "metadata": {},
     "output_type": "display_data"
    }
   ],
   "source": [
    "fig, ax = plt.subplots(figsize = (16,6)) # 액자\n",
    "sns.lineplot(x = 'pickup_date', y = 'trips', data = pd_daily_trip_count)\n",
    "plt.show()"
   ]
  },
  {
   "cell_type": "code",
   "execution_count": 85,
   "metadata": {},
   "outputs": [
    {
     "name": "stderr",
     "output_type": "stream",
     "text": [
      "                                                                                \r"
     ]
    }
   ],
   "source": [
    "query_daily_trip_count2 = \"\"\"\n",
    "select e.pickup_date, count(*) as trips, date_format(e.pickup_date, 'EEEE') as day\n",
    "from eda as e\n",
    "group by e.pickup_date, day\n",
    "\"\"\"\n",
    "\n",
    "pd_daily_trip_count2 = ss.sql(query_daily_trip_count2).toPandas()"
   ]
  },
  {
   "cell_type": "code",
   "execution_count": 86,
   "metadata": {},
   "outputs": [
    {
     "name": "stderr",
     "output_type": "stream",
     "text": [
      "[Stage 107:=========>      (7 + 5) / 12][Stage 117:============>   (9 + 3) / 12]\r"
     ]
    },
    {
     "name": "stdout",
     "output_type": "stream",
     "text": [
      "+-----------+-----+---------+\n",
      "|pickup_date|trips|      day|\n",
      "+-----------+-----+---------+\n",
      "| 2021-03-24|59905|Wednesday|\n",
      "| 2021-03-27|64294| Saturday|\n",
      "| 2021-03-03|56445|Wednesday|\n",
      "| 2021-05-06|79864| Thursday|\n",
      "| 2021-03-05|60958|   Friday|\n",
      "| 2021-03-09|52015|  Tuesday|\n",
      "| 2021-03-26|62726|   Friday|\n",
      "| 2021-03-01|43725|   Monday|\n",
      "| 2021-03-19|63846|   Friday|\n",
      "| 2021-03-13|61056| Saturday|\n",
      "| 2021-03-21|52985|   Sunday|\n",
      "| 2021-03-14|51163|   Sunday|\n",
      "| 2021-03-08|46085|   Monday|\n",
      "| 2021-04-14|69275|Wednesday|\n",
      "| 2021-03-23|55797|  Tuesday|\n",
      "| 2021-03-02|52966|  Tuesday|\n",
      "| 2021-05-27|87713| Thursday|\n",
      "| 2021-03-16|57347|  Tuesday|\n",
      "| 2021-03-04|58393| Thursday|\n",
      "| 2021-03-25|63343| Thursday|\n",
      "+-----------+-----+---------+\n",
      "only showing top 20 rows\n",
      "\n"
     ]
    },
    {
     "name": "stderr",
     "output_type": "stream",
     "text": [
      "                                                                                \r"
     ]
    }
   ],
   "source": [
    "ss.sql(query_daily_trip_count2).show()"
   ]
  },
  {
   "cell_type": "code",
   "execution_count": 87,
   "metadata": {},
   "outputs": [
    {
     "data": {
      "text/html": [
       "<div>\n",
       "<style scoped>\n",
       "    .dataframe tbody tr th:only-of-type {\n",
       "        vertical-align: middle;\n",
       "    }\n",
       "\n",
       "    .dataframe tbody tr th {\n",
       "        vertical-align: top;\n",
       "    }\n",
       "\n",
       "    .dataframe thead th {\n",
       "        text-align: right;\n",
       "    }\n",
       "</style>\n",
       "<table border=\"1\" class=\"dataframe\">\n",
       "  <thead>\n",
       "    <tr style=\"text-align: right;\">\n",
       "      <th></th>\n",
       "      <th>day</th>\n",
       "      <th>trips</th>\n",
       "    </tr>\n",
       "  </thead>\n",
       "  <tbody>\n",
       "    <tr>\n",
       "      <th>0</th>\n",
       "      <td>Friday</td>\n",
       "      <td>71173.0</td>\n",
       "    </tr>\n",
       "    <tr>\n",
       "      <th>1</th>\n",
       "      <td>Monday</td>\n",
       "      <td>52204.0</td>\n",
       "    </tr>\n",
       "    <tr>\n",
       "      <th>2</th>\n",
       "      <td>Saturday</td>\n",
       "      <td>70183.0</td>\n",
       "    </tr>\n",
       "    <tr>\n",
       "      <th>3</th>\n",
       "      <td>Sunday</td>\n",
       "      <td>58471.0</td>\n",
       "    </tr>\n",
       "    <tr>\n",
       "      <th>4</th>\n",
       "      <td>Thursday</td>\n",
       "      <td>75091.5</td>\n",
       "    </tr>\n",
       "    <tr>\n",
       "      <th>5</th>\n",
       "      <td>Tuesday</td>\n",
       "      <td>62550.5</td>\n",
       "    </tr>\n",
       "    <tr>\n",
       "      <th>6</th>\n",
       "      <td>Wednesday</td>\n",
       "      <td>70728.0</td>\n",
       "    </tr>\n",
       "  </tbody>\n",
       "</table>\n",
       "</div>"
      ],
      "text/plain": [
       "         day    trips\n",
       "0     Friday  71173.0\n",
       "1     Monday  52204.0\n",
       "2   Saturday  70183.0\n",
       "3     Sunday  58471.0\n",
       "4   Thursday  75091.5\n",
       "5    Tuesday  62550.5\n",
       "6  Wednesday  70728.0"
      ]
     },
     "execution_count": 87,
     "metadata": {},
     "output_type": "execute_result"
    },
    {
     "name": "stderr",
     "output_type": "stream",
     "text": [
      "[Stage 107:================================>                       (7 + 5) / 12]\r"
     ]
    }
   ],
   "source": [
    "data2 = pd_daily_trip_count2.groupby('day').trips.median().to_frame().reset_index()\n",
    "data2"
   ]
  },
  {
   "cell_type": "code",
   "execution_count": 88,
   "metadata": {},
   "outputs": [
    {
     "data": {
      "image/png": "[encoded data removed]",
      "text/plain": [
       "<Figure size 1600x600 with 1 Axes>"
      ]
     },
     "metadata": {},
     "output_type": "display_data"
    }
   ],
   "source": [
    "fig, ax = plt.subplots(figsize=(16,6))\n",
    "sns.barplot(x = 'day', y = 'trips', data = data2)\n",
    "plt.show()"
   ]
  },
  {
   "cell_type": "code",
   "execution_count": 89,
   "metadata": {},
   "outputs": [
    {
     "data": {
      "text/html": [
       "<div>\n",
       "<style scoped>\n",
       "    .dataframe tbody tr th:only-of-type {\n",
       "        vertical-align: middle;\n",
       "    }\n",
       "\n",
       "    .dataframe tbody tr th {\n",
       "        vertical-align: top;\n",
       "    }\n",
       "\n",
       "    .dataframe thead th {\n",
       "        text-align: right;\n",
       "    }\n",
       "</style>\n",
       "<table border=\"1\" class=\"dataframe\">\n",
       "  <thead>\n",
       "    <tr style=\"text-align: right;\">\n",
       "      <th></th>\n",
       "      <th>day</th>\n",
       "      <th>trips</th>\n",
       "      <th>sort_day</th>\n",
       "    </tr>\n",
       "  </thead>\n",
       "  <tbody>\n",
       "    <tr>\n",
       "      <th>3</th>\n",
       "      <td>Sunday</td>\n",
       "      <td>58471.0</td>\n",
       "      <td>0</td>\n",
       "    </tr>\n",
       "    <tr>\n",
       "      <th>1</th>\n",
       "      <td>Monday</td>\n",
       "      <td>52204.0</td>\n",
       "      <td>1</td>\n",
       "    </tr>\n",
       "    <tr>\n",
       "      <th>5</th>\n",
       "      <td>Tuesday</td>\n",
       "      <td>62550.5</td>\n",
       "      <td>2</td>\n",
       "    </tr>\n",
       "    <tr>\n",
       "      <th>6</th>\n",
       "      <td>Wednesday</td>\n",
       "      <td>70728.0</td>\n",
       "      <td>3</td>\n",
       "    </tr>\n",
       "    <tr>\n",
       "      <th>4</th>\n",
       "      <td>Thursday</td>\n",
       "      <td>75091.5</td>\n",
       "      <td>4</td>\n",
       "    </tr>\n",
       "    <tr>\n",
       "      <th>0</th>\n",
       "      <td>Friday</td>\n",
       "      <td>71173.0</td>\n",
       "      <td>5</td>\n",
       "    </tr>\n",
       "    <tr>\n",
       "      <th>2</th>\n",
       "      <td>Saturday</td>\n",
       "      <td>70183.0</td>\n",
       "      <td>6</td>\n",
       "    </tr>\n",
       "  </tbody>\n",
       "</table>\n",
       "</div>"
      ],
      "text/plain": [
       "         day    trips  sort_day\n",
       "3     Sunday  58471.0         0\n",
       "1     Monday  52204.0         1\n",
       "5    Tuesday  62550.5         2\n",
       "6  Wednesday  70728.0         3\n",
       "4   Thursday  75091.5         4\n",
       "0     Friday  71173.0         5\n",
       "2   Saturday  70183.0         6"
      ]
     },
     "execution_count": 89,
     "metadata": {},
     "output_type": "execute_result"
    }
   ],
   "source": [
    "data2['sort_day'] = data2['day'].replace({\n",
    "                                       'Sunday' : 0,\n",
    "                                       'Monday' : 1,\n",
    "                                       'Tuesday' : 2,\n",
    "                                       'Wednesday' : 3,\n",
    "                                       'Thursday' : 4,\n",
    "                                       'Friday' : 5,\n",
    "                                       'Saturday' : 6\n",
    "                                       })\n",
    "\n",
    "data2.sort_values(by='sort_day', inplace = True)\n",
    "data2"
   ]
  },
  {
   "cell_type": "code",
   "execution_count": 90,
   "metadata": {},
   "outputs": [
    {
     "data": {
      "image/png": "[encoded data removed]",
      "text/plain": [
       "<Figure size 1600x600 with 1 Axes>"
      ]
     },
     "metadata": {},
     "output_type": "display_data"
    },
    {
     "name": "stderr",
     "output_type": "stream",
     "text": [
      "                                                                                \r"
     ]
    }
   ],
   "source": [
    "fig, ax = plt.subplots(figsize=(16,6))\n",
    "sns.barplot(x = 'day', y = 'trips', data = data2)\n",
    "plt.show()"
   ]
  },
  {
   "cell_type": "code",
   "execution_count": 44,
   "metadata": {},
   "outputs": [
    {
     "data": {
      "text/plain": [
       "<function __main__.weekday(data)>"
      ]
     },
     "execution_count": 44,
     "metadata": {},
     "output_type": "execute_result"
    }
   ],
   "source": [
    "def weekday(data):\n",
    "    import calendar\n",
    "    return calendar.day_name(data.weekday())\n",
    "\n",
    "ss.udf.register('weekday', weekday)\n",
    "\n",
    "# 사용자 정의 함수\n",
    "\n",
    "# 함수를 커스텀해서 쿼리할 때 사용가능"
   ]
  },
  {
   "cell_type": "code",
   "execution_count": 45,
   "metadata": {},
   "outputs": [
    {
     "data": {
      "text/plain": [
       "<function __main__.parse_payment_type(payment_type)>"
      ]
     },
     "execution_count": 45,
     "metadata": {},
     "output_type": "execute_result"
    }
   ],
   "source": [
    "payment_type_category = {\n",
    "    1 : 'CREDIT CARD',\n",
    "    2 : 'CASH',\n",
    "    3 : 'NO CHARGE',\n",
    "    4 : 'DISPUTE',\n",
    "    5 : 'UNKNOWN',\n",
    "    6 : 'CANCEL',\n",
    "}\n",
    "\n",
    "def parse_payment_type(payment_type):\n",
    "    return payment_type_category[payment_type]\n",
    "\n",
    "ss.udf.register('parse_payment_type', parse_payment_type)"
   ]
  },
  {
   "cell_type": "code",
   "execution_count": 46,
   "metadata": {},
   "outputs": [
    {
     "name": "stdout",
     "output_type": "stream",
     "text": [
      "+------------+--------+---------------+---------------+\n",
      "|payment_type|   trips|avg_fare_amount|std_fare_amount|\n",
      "+------------+--------+---------------+---------------+\n",
      "| CREDIT CARD|10537182|          12.22|          10.81|\n",
      "|   NO CHARGE|   80970|           6.69|          17.45|\n",
      "|        CASH| 3249790|          11.91|          11.32|\n",
      "|     DISPUTE|   59468|          -2.09|          19.45|\n",
      "|     UNKNOWN|       1|           17.8|           null|\n",
      "+------------+--------+---------------+---------------+\n",
      "\n"
     ]
    }
   ],
   "source": [
    "parse_payment_query = \"\"\"\n",
    "select parse_payment_type(payment_type) as payment_type, \\\n",
    "    count(*) as trips, \\\n",
    "    round(mean(fare_amount), 2) as avg_fare_amount, \\\n",
    "    round(std(fare_amount), 2) as std_fare_amount\n",
    "from eda\n",
    "group by payment_type\n",
    "\"\"\"\n",
    "\n",
    "ss.sql(parse_payment_query).show()"
   ]
  },
  {
   "cell_type": "code",
   "execution_count": 47,
   "metadata": {},
   "outputs": [],
   "source": [
    "payment_df = ss.sql(parse_payment_query).toPandas()"
   ]
  },
  {
   "cell_type": "code",
   "execution_count": 48,
   "metadata": {},
   "outputs": [
    {
     "data": {
      "image/png": "[encoded data removed]",
      "text/plain": [
       "<Figure size 1600x600 with 1 Axes>"
      ]
     },
     "metadata": {},
     "output_type": "display_data"
    }
   ],
   "source": [
    "fig, ax = plt.subplots(figsize = (16, 6))\n",
    "sns.barplot(x = 'payment_type', y = 'trips', data = payment_df)\n",
    "plt.show()"
   ]
  },
  {
   "cell_type": "code",
   "execution_count": 49,
   "metadata": {},
   "outputs": [
    {
     "data": {
      "text/html": [
       "<div>\n",
       "<style scoped>\n",
       "    .dataframe tbody tr th:only-of-type {\n",
       "        vertical-align: middle;\n",
       "    }\n",
       "\n",
       "    .dataframe tbody tr th {\n",
       "        vertical-align: top;\n",
       "    }\n",
       "\n",
       "    .dataframe thead th {\n",
       "        text-align: right;\n",
       "    }\n",
       "</style>\n",
       "<table border=\"1\" class=\"dataframe\">\n",
       "  <thead>\n",
       "    <tr style=\"text-align: right;\">\n",
       "      <th></th>\n",
       "      <th>payment_type</th>\n",
       "      <th>trips</th>\n",
       "      <th>avg_fare_amount</th>\n",
       "      <th>std_fare_amount</th>\n",
       "    </tr>\n",
       "  </thead>\n",
       "  <tbody>\n",
       "    <tr>\n",
       "      <th>0</th>\n",
       "      <td>CREDIT CARD</td>\n",
       "      <td>10537182</td>\n",
       "      <td>12.22</td>\n",
       "      <td>10.81</td>\n",
       "    </tr>\n",
       "    <tr>\n",
       "      <th>1</th>\n",
       "      <td>NO CHARGE</td>\n",
       "      <td>80970</td>\n",
       "      <td>6.69</td>\n",
       "      <td>17.45</td>\n",
       "    </tr>\n",
       "    <tr>\n",
       "      <th>2</th>\n",
       "      <td>CASH</td>\n",
       "      <td>3249790</td>\n",
       "      <td>11.91</td>\n",
       "      <td>11.32</td>\n",
       "    </tr>\n",
       "    <tr>\n",
       "      <th>3</th>\n",
       "      <td>DISPUTE</td>\n",
       "      <td>59468</td>\n",
       "      <td>-2.09</td>\n",
       "      <td>19.45</td>\n",
       "    </tr>\n",
       "    <tr>\n",
       "      <th>4</th>\n",
       "      <td>UNKNOWN</td>\n",
       "      <td>1</td>\n",
       "      <td>17.80</td>\n",
       "      <td>NaN</td>\n",
       "    </tr>\n",
       "  </tbody>\n",
       "</table>\n",
       "</div>"
      ],
      "text/plain": [
       "  payment_type     trips  avg_fare_amount  std_fare_amount\n",
       "0  CREDIT CARD  10537182            12.22            10.81\n",
       "1    NO CHARGE     80970             6.69            17.45\n",
       "2         CASH   3249790            11.91            11.32\n",
       "3      DISPUTE     59468            -2.09            19.45\n",
       "4      UNKNOWN         1            17.80              NaN"
      ]
     },
     "execution_count": 49,
     "metadata": {},
     "output_type": "execute_result"
    }
   ],
   "source": [
    "payment_df"
   ]
  }
 ],
 "metadata": {
  "kernelspec": {
   "display_name": "newkaf",
   "language": "python",
   "name": "python3"
  },
  "language_info": {
   "codemirror_mode": {
    "name": "ipython",
    "version": 3
   },
   "file_extension": ".py",
   "mimetype": "text/x-python",
   "name": "python",
   "nbconvert_exporter": "python",
   "pygments_lexer": "ipython3",
   "version": "3.8.17"
  },
  "orig_nbformat": 4
 },
 "nbformat": 4,
 "nbformat_minor": 2
}
